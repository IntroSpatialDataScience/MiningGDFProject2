{
 "cells": [
  {
   "cell_type": "markdown",
   "id": "b3da3699-6c37-4a74-94fc-2649a06db116",
   "metadata": {},
   "source": [
    "## Exercise 5"
   ]
  },
  {
   "cell_type": "code",
   "execution_count": 1,
   "id": "a0d129a1-19bf-44c0-92bf-1eb4514ef72e",
   "metadata": {
    "tags": []
   },
   "outputs": [],
   "source": [
    "import os\n",
    "import geopandas as gpd\n",
    "from  fiona import listlayers\n",
    "import matplotlib.pyplot as plt\n",
    "import pandas as pd "
   ]
  },
  {
   "cell_type": "markdown",
   "id": "f787d483-b442-4a50-b717-0758d9d12b22",
   "metadata": {},
   "source": [
    "    \n",
    "### 1. Get a polygons map of the lowest administrative unit possible."
   ]
  },
  {
   "cell_type": "code",
   "execution_count": null,
   "id": "4e0b6ace-a64e-44f7-9943-c4644f72ee92",
   "metadata": {},
   "outputs": [],
   "source": [
    "peru_health = \"https://github.com/IntroSpatialDataScience/MiningGDF_Project1/raw/main/data/peru_health_sities.csv\""
   ]
  },
  {
   "cell_type": "code",
   "execution_count": null,
   "id": "c513bc0c-33ef-423d-b804-576b1f36f023",
   "metadata": {},
   "outputs": [],
   "source": []
  },
  {
   "cell_type": "markdown",
   "id": "0e51c357-db28-4e26-b88a-e5f8a9032e87",
   "metadata": {},
   "source": [
    "    \n",
    "### 2. Get a table of variables for those units. At least 3 numerical variables."
   ]
  },
  {
   "cell_type": "markdown",
   "id": "764c5177-4ce8-4f13-92f5-aad2a7e838f1",
   "metadata": {},
   "source": [
    "### 3. Preprocess both tables and get them ready for merging."
   ]
  },
  {
   "cell_type": "markdown",
   "id": "165d7394-8d09-4c19-80df-e8605a5f6825",
   "metadata": {},
   "source": [
    "### 4. Do the merging, making the changes needed so that you keep the most columns."
   ]
  },
  {
   "cell_type": "markdown",
   "id": "82317613-c35a-4523-947e-c941a721d3bc",
   "metadata": {},
   "source": [
    "## Exercise 6"
   ]
  },
  {
   "cell_type": "markdown",
   "id": "4df0fc91-d43d-4158-9b51-4f39a2a8a690",
   "metadata": {},
   "source": [
    "### 1. Choose a numeric variable from your merged data."
   ]
  },
  {
   "cell_type": "markdown",
   "id": "e824465f-09c1-4e8e-a27b-b2a77b8273e0",
   "metadata": {},
   "source": [
    "### 2. Decide which is the  best classification scheme for that variable."
   ]
  },
  {
   "cell_type": "markdown",
   "id": "92adaff1-630a-4eed-820d-742085bf4e52",
   "metadata": {},
   "source": [
    "### 3. Make a map for the best scheme."
   ]
  },
  {
   "cell_type": "markdown",
   "id": "2be11e08-d522-4576-91e3-31ab51ef9412",
   "metadata": {},
   "source": [
    "### 4. Make a histogram for the best scheme."
   ]
  },
  {
   "cell_type": "markdown",
   "id": "f0afe143-3bbf-4993-acec-5d77338517c8",
   "metadata": {},
   "source": [
    "## Exercise 7"
   ]
  },
  {
   "cell_type": "markdown",
   "id": "15c12356-3dc7-40db-b7fe-f4c6d9af4fa6",
   "metadata": {},
   "source": [
    "        \n",
    "#### Compute the neighbors of the capital of your country. Plot the results for each of the options."
   ]
  },
  {
   "cell_type": "markdown",
   "id": "448f13bb-fb2f-4b93-938c-63518a282fb8",
   "metadata": {},
   "source": [
    "## Exercise 8"
   ]
  },
  {
   "cell_type": "markdown",
   "id": "37a450f9-b6e8-4963-bd5c-9129117407ce",
   "metadata": {},
   "source": [
    "    \n",
    "### 1. Compute the Moran's coefficient for **all** your numeric variables.\n",
    "    "
   ]
  },
  {
   "cell_type": "markdown",
   "id": "2e6f6b50-4933-42df-8669-4ca0a2553a9e",
   "metadata": {},
   "source": [
    "### 2. Make a scatter plot for each variable."
   ]
  },
  {
   "cell_type": "markdown",
   "id": "772c6f48-6bc8-4054-8cd8-c1bf893131ab",
   "metadata": {},
   "source": [
    "## Exercise 9"
   ]
  },
  {
   "cell_type": "markdown",
   "id": "80d50aad-2927-46b7-8752-2f1ac180b233",
   "metadata": {},
   "source": [
    "### 1. Compute the Local Moran for the variables in your data that have significant spatial correlation.\n",
    "    "
   ]
  },
  {
   "cell_type": "markdown",
   "id": "7e5fe9c9-b6b8-4bf4-8ec8-7799a72914a1",
   "metadata": {},
   "source": [
    "### 2. Create a new column for each of those variables, with a label ('0 no_sig', '1 hotSpot', '2 coldOutlier', '3 coldSpot', '4 hotOutlier')."
   ]
  },
  {
   "cell_type": "markdown",
   "id": "9c475b63-170b-4e77-afb6-3eb9f723a995",
   "metadata": {},
   "source": [
    "### 3. Prepare a map for each of the variables analyzed, showing the spots and outliers."
   ]
  },
  {
   "cell_type": "code",
   "execution_count": null,
   "id": "2835ee3a-bc16-4e31-9762-1779879a078e",
   "metadata": {},
   "outputs": [],
   "source": []
  }
 ],
 "metadata": {
  "kernelspec": {
   "display_name": "Python 3 (ipykernel)",
   "language": "python",
   "name": "python3"
  },
  "language_info": {
   "codemirror_mode": {
    "name": "ipython",
    "version": 3
   },
   "file_extension": ".py",
   "mimetype": "text/x-python",
   "name": "python",
   "nbconvert_exporter": "python",
   "pygments_lexer": "ipython3",
   "version": "3.11.4"
  }
 },
 "nbformat": 4,
 "nbformat_minor": 5
}
