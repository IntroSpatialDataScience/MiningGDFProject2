{
 "cells": [
  {
   "cell_type": "markdown",
   "id": "b3da3699-6c37-4a74-94fc-2649a06db116",
   "metadata": {},
   "source": [
    "## Exercise 5"
   ]
  },
  {
   "cell_type": "code",
   "execution_count": 187,
   "id": "a0d129a1-19bf-44c0-92bf-1eb4514ef72e",
   "metadata": {
    "tags": []
   },
   "outputs": [],
   "source": [
    "import os\n",
    "import geopandas as gpd\n",
    "from  fiona import listlayers\n",
    "import matplotlib.pyplot as plt\n",
    "import pandas as pd "
   ]
  },
  {
   "cell_type": "markdown",
   "id": "f787d483-b442-4a50-b717-0758d9d12b22",
   "metadata": {},
   "source": [
    "    \n",
    "### 1. Get a polygons map of the lowest administrative unit possible."
   ]
  },
  {
   "cell_type": "code",
   "execution_count": 188,
   "id": "4e0b6ace-a64e-44f7-9943-c4644f72ee92",
   "metadata": {
    "tags": []
   },
   "outputs": [],
   "source": [
    "peruMaps = \"https://github.com/IntroSpatialDataScience/MiningGDFProject2/raw/main/maps/PeMaps.gpkg\"\n",
    "DistExcel = \"https://github.com/IntroSpatialDataScience/MiningGDFProject2/raw/main/data/dataPeru_indicadores.xlsx\""
   ]
  },
  {
   "cell_type": "code",
   "execution_count": 189,
   "id": "c513bc0c-33ef-423d-b804-576b1f36f023",
   "metadata": {
    "tags": []
   },
   "outputs": [
    {
     "data": {
      "text/plain": [
       "['country', 'dep', 'mun', 'dist']"
      ]
     },
     "execution_count": 189,
     "metadata": {},
     "output_type": "execute_result"
    }
   ],
   "source": [
    "listlayers(peruMaps)"
   ]
  },
  {
   "cell_type": "code",
   "execution_count": 190,
   "id": "3d5d1778-df3c-4d40-bac3-cb36edb28e74",
   "metadata": {
    "tags": []
   },
   "outputs": [],
   "source": [
    "peru = gpd.read_file(peruMaps,layer='country')\n",
    "disMap = gpd.read_file(peruMaps,layer=\"dist\")"
   ]
  },
  {
   "cell_type": "code",
   "execution_count": 191,
   "id": "c7047785-c847-433a-915a-af225d72fc5f",
   "metadata": {
    "tags": []
   },
   "outputs": [
    {
     "data": {
      "text/html": [
       "<div>\n",
       "<style scoped>\n",
       "    .dataframe tbody tr th:only-of-type {\n",
       "        vertical-align: middle;\n",
       "    }\n",
       "\n",
       "    .dataframe tbody tr th {\n",
       "        vertical-align: top;\n",
       "    }\n",
       "\n",
       "    .dataframe thead th {\n",
       "        text-align: right;\n",
       "    }\n",
       "</style>\n",
       "<table border=\"1\" class=\"dataframe\">\n",
       "  <thead>\n",
       "    <tr style=\"text-align: right;\">\n",
       "      <th></th>\n",
       "      <th>Distrito</th>\n",
       "      <th>Provincia</th>\n",
       "      <th>Departamento</th>\n",
       "      <th>geometry</th>\n",
       "    </tr>\n",
       "  </thead>\n",
       "  <tbody>\n",
       "    <tr>\n",
       "      <th>0</th>\n",
       "      <td>Abancay</td>\n",
       "      <td>Abancay</td>\n",
       "      <td>Apurimac</td>\n",
       "      <td>POLYGON ((-72.93158 -13.55616, -72.93140 -13.5...</td>\n",
       "    </tr>\n",
       "    <tr>\n",
       "      <th>1</th>\n",
       "      <td>Abelardo Pardo Lezameta</td>\n",
       "      <td>Bolognesi</td>\n",
       "      <td>Ancash</td>\n",
       "      <td>POLYGON ((-77.14740 -10.29675, -77.14643 -10.2...</td>\n",
       "    </tr>\n",
       "    <tr>\n",
       "      <th>2</th>\n",
       "      <td>Acari</td>\n",
       "      <td>Caraveli</td>\n",
       "      <td>Arequipa</td>\n",
       "      <td>POLYGON ((-74.61542 -15.13728, -74.61174 -15.1...</td>\n",
       "    </tr>\n",
       "  </tbody>\n",
       "</table>\n",
       "</div>"
      ],
      "text/plain": [
       "                  Distrito  Provincia Departamento  \\\n",
       "0                  Abancay    Abancay     Apurimac   \n",
       "1  Abelardo Pardo Lezameta  Bolognesi       Ancash   \n",
       "2                    Acari   Caraveli     Arequipa   \n",
       "\n",
       "                                            geometry  \n",
       "0  POLYGON ((-72.93158 -13.55616, -72.93140 -13.5...  \n",
       "1  POLYGON ((-77.14740 -10.29675, -77.14643 -10.2...  \n",
       "2  POLYGON ((-74.61542 -15.13728, -74.61174 -15.1...  "
      ]
     },
     "execution_count": 191,
     "metadata": {},
     "output_type": "execute_result"
    }
   ],
   "source": [
    "disMap.rename(columns={'ADM3_ES':'Distrito','ADM2_ES':'Provincia','ADM1_ES':'Departamento'},inplace=True)\n",
    "disMap = disMap[['Distrito','Provincia','Departamento','geometry']]\n",
    "disMap.head(3)"
   ]
  },
  {
   "cell_type": "code",
   "execution_count": 192,
   "id": "e700be8f-b9ce-41ef-8936-bbf572c2cd96",
   "metadata": {
    "tags": []
   },
   "outputs": [
    {
     "data": {
      "text/plain": [
       "<Geographic 2D CRS: EPSG:4326>\n",
       "Name: WGS 84\n",
       "Axis Info [ellipsoidal]:\n",
       "- Lat[north]: Geodetic latitude (degree)\n",
       "- Lon[east]: Geodetic longitude (degree)\n",
       "Area of Use:\n",
       "- name: World.\n",
       "- bounds: (-180.0, -90.0, 180.0, 90.0)\n",
       "Datum: World Geodetic System 1984 ensemble\n",
       "- Ellipsoid: WGS 84\n",
       "- Prime Meridian: Greenwich"
      ]
     },
     "execution_count": 192,
     "metadata": {},
     "output_type": "execute_result"
    }
   ],
   "source": [
    "disMap.crs"
   ]
  },
  {
   "cell_type": "code",
   "execution_count": 193,
   "id": "817819a0-cbb2-4a38-95ef-8bcd75d52370",
   "metadata": {
    "tags": []
   },
   "outputs": [
    {
     "data": {
      "text/plain": [
       "<Projected CRS: EPSG:24891>\n",
       "Name: PSAD56 / Peru west zone\n",
       "Axis Info [cartesian]:\n",
       "- X[east]: Easting (metre)\n",
       "- Y[north]: Northing (metre)\n",
       "Area of Use:\n",
       "- name: Peru - west of 79°W.\n",
       "- bounds: (-81.41, -8.32, -79.0, -3.38)\n",
       "Coordinate Operation:\n",
       "- name: Peru west zone\n",
       "- method: Transverse Mercator\n",
       "Datum: Provisional South American Datum 1956\n",
       "- Ellipsoid: International 1924\n",
       "- Prime Meridian: Greenwich"
      ]
     },
     "execution_count": 193,
     "metadata": {},
     "output_type": "execute_result"
    }
   ],
   "source": [
    "disMap=disMap.to_crs(\"24891\")\n",
    "disMap.crs"
   ]
  },
  {
   "cell_type": "code",
   "execution_count": 194,
   "id": "31ca726b-1be9-4e54-9218-fd0f1129b6ff",
   "metadata": {
    "tags": []
   },
   "outputs": [
    {
     "data": {
      "image/png": "[encoded data removed]",
      "text/plain": [
       "<Figure size 640x480 with 1 Axes>"
      ]
     },
     "metadata": {},
     "output_type": "display_data"
    }
   ],
   "source": [
    "base = peru.plot(color='beige')\n",
    "disMap.plot(ax=base, facecolor='beige', edgecolor='darkgoldenrod',linewidth=0.2)\n",
    "plt.show()"
   ]
  },
  {
   "cell_type": "markdown",
   "id": "0e51c357-db28-4e26-b88a-e5f8a9032e87",
   "metadata": {},
   "source": [
    "    \n",
    "### 2. Get a table of variables for those units. At least 3 numerical variables."
   ]
  },
  {
   "cell_type": "code",
   "execution_count": 195,
   "id": "0a258f49-7f10-4996-b70a-c35b82dfcd37",
   "metadata": {
    "tags": []
   },
   "outputs": [
    {
     "data": {
      "text/html": [
       "<div>\n",
       "<style scoped>\n",
       "    .dataframe tbody tr th:only-of-type {\n",
       "        vertical-align: middle;\n",
       "    }\n",
       "\n",
       "    .dataframe tbody tr th {\n",
       "        vertical-align: top;\n",
       "    }\n",
       "\n",
       "    .dataframe thead th {\n",
       "        text-align: right;\n",
       "    }\n",
       "</style>\n",
       "<table border=\"1\" class=\"dataframe\">\n",
       "  <thead>\n",
       "    <tr style=\"text-align: right;\">\n",
       "      <th></th>\n",
       "      <th>Ubigeo</th>\n",
       "      <th>Departamento</th>\n",
       "      <th>Provincia</th>\n",
       "      <th>Distrito</th>\n",
       "      <th>Poblacion</th>\n",
       "      <th>Superficie</th>\n",
       "      <th>IDH2019</th>\n",
       "      <th>Educ_sec_comp2019_pct</th>\n",
       "      <th>NBI2017_pct</th>\n",
       "      <th>Viv_sin_serv_hig2017_pct</th>\n",
       "    </tr>\n",
       "  </thead>\n",
       "  <tbody>\n",
       "    <tr>\n",
       "      <th>0</th>\n",
       "      <td>010202</td>\n",
       "      <td>Amazonas</td>\n",
       "      <td>Bagua</td>\n",
       "      <td>ARAMANGO</td>\n",
       "      <td>10940</td>\n",
       "      <td>809.07</td>\n",
       "      <td>0.361182</td>\n",
       "      <td>37.545885</td>\n",
       "      <td>62.9</td>\n",
       "      <td>9.1</td>\n",
       "    </tr>\n",
       "    <tr>\n",
       "      <th>1</th>\n",
       "      <td>010201</td>\n",
       "      <td>Amazonas</td>\n",
       "      <td>Bagua</td>\n",
       "      <td>BAGUA</td>\n",
       "      <td>26091</td>\n",
       "      <td>150.99</td>\n",
       "      <td>0.584063</td>\n",
       "      <td>70.795501</td>\n",
       "      <td>25.4</td>\n",
       "      <td>0.7</td>\n",
       "    </tr>\n",
       "    <tr>\n",
       "      <th>2</th>\n",
       "      <td>010203</td>\n",
       "      <td>Amazonas</td>\n",
       "      <td>Bagua</td>\n",
       "      <td>COPALLIN</td>\n",
       "      <td>6319</td>\n",
       "      <td>99.05</td>\n",
       "      <td>0.467245</td>\n",
       "      <td>52.571361</td>\n",
       "      <td>45.4</td>\n",
       "      <td>2.1</td>\n",
       "    </tr>\n",
       "    <tr>\n",
       "      <th>3</th>\n",
       "      <td>010204</td>\n",
       "      <td>Amazonas</td>\n",
       "      <td>Bagua</td>\n",
       "      <td>EL PARCO</td>\n",
       "      <td>1492</td>\n",
       "      <td>18.48</td>\n",
       "      <td>0.489049</td>\n",
       "      <td>70.215409</td>\n",
       "      <td>59.9</td>\n",
       "      <td>1.5</td>\n",
       "    </tr>\n",
       "    <tr>\n",
       "      <th>4</th>\n",
       "      <td>010205</td>\n",
       "      <td>Amazonas</td>\n",
       "      <td>Bagua</td>\n",
       "      <td>IMAZA</td>\n",
       "      <td>24323</td>\n",
       "      <td>4430.84</td>\n",
       "      <td>0.298089</td>\n",
       "      <td>31.295719</td>\n",
       "      <td>88.4</td>\n",
       "      <td>11.7</td>\n",
       "    </tr>\n",
       "  </tbody>\n",
       "</table>\n",
       "</div>"
      ],
      "text/plain": [
       "   Ubigeo Departamento Provincia  Distrito  Poblacion  Superficie   IDH2019  \\\n",
       "0  010202     Amazonas     Bagua  ARAMANGO      10940      809.07  0.361182   \n",
       "1  010201     Amazonas     Bagua     BAGUA      26091      150.99  0.584063   \n",
       "2  010203     Amazonas     Bagua  COPALLIN       6319       99.05  0.467245   \n",
       "3  010204     Amazonas     Bagua  EL PARCO       1492       18.48  0.489049   \n",
       "4  010205     Amazonas     Bagua     IMAZA      24323     4430.84  0.298089   \n",
       "\n",
       "   Educ_sec_comp2019_pct  NBI2017_pct  Viv_sin_serv_hig2017_pct  \n",
       "0              37.545885         62.9                       9.1  \n",
       "1              70.795501         25.4                       0.7  \n",
       "2              52.571361         45.4                       2.1  \n",
       "3              70.215409         59.9                       1.5  \n",
       "4              31.295719         88.4                      11.7  "
      ]
     },
     "execution_count": 195,
     "metadata": {},
     "output_type": "execute_result"
    }
   ],
   "source": [
    "datadis=pd.read_excel(DistExcel,\n",
    "                     dtype={'Ubigeo': object})\n",
    "datadis.head(5)"
   ]
  },
  {
   "cell_type": "code",
   "execution_count": 196,
   "id": "d00fcce5-7a3e-4be1-abb8-4c61ff4e988b",
   "metadata": {
    "tags": []
   },
   "outputs": [
    {
     "data": {
      "text/html": [
       "<div>\n",
       "<style scoped>\n",
       "    .dataframe tbody tr th:only-of-type {\n",
       "        vertical-align: middle;\n",
       "    }\n",
       "\n",
       "    .dataframe tbody tr th {\n",
       "        vertical-align: top;\n",
       "    }\n",
       "\n",
       "    .dataframe thead th {\n",
       "        text-align: right;\n",
       "    }\n",
       "</style>\n",
       "<table border=\"1\" class=\"dataframe\">\n",
       "  <thead>\n",
       "    <tr style=\"text-align: right;\">\n",
       "      <th></th>\n",
       "      <th>Distrito</th>\n",
       "      <th>Provincia</th>\n",
       "      <th>Departamento</th>\n",
       "      <th>geometry</th>\n",
       "    </tr>\n",
       "  </thead>\n",
       "  <tbody>\n",
       "    <tr>\n",
       "      <th>0</th>\n",
       "      <td>Abancay</td>\n",
       "      <td>Abancay</td>\n",
       "      <td>Apurimac</td>\n",
       "      <td>POLYGON ((1043456.374 578809.517, 1043472.076 ...</td>\n",
       "    </tr>\n",
       "    <tr>\n",
       "      <th>1</th>\n",
       "      <td>Abelardo Pardo Lezameta</td>\n",
       "      <td>Bolognesi</td>\n",
       "      <td>Ancash</td>\n",
       "      <td>POLYGON ((589625.329 950159.105, 589731.729 95...</td>\n",
       "    </tr>\n",
       "    <tr>\n",
       "      <th>2</th>\n",
       "      <td>Acari</td>\n",
       "      <td>Caraveli</td>\n",
       "      <td>Arequipa</td>\n",
       "      <td>POLYGON ((855604.724 408148.590, 855990.585 40...</td>\n",
       "    </tr>\n",
       "    <tr>\n",
       "      <th>3</th>\n",
       "      <td>Acas</td>\n",
       "      <td>Ocros</td>\n",
       "      <td>Ancash</td>\n",
       "      <td>POLYGON ((576776.387 934936.983, 576726.618 93...</td>\n",
       "    </tr>\n",
       "    <tr>\n",
       "      <th>4</th>\n",
       "      <td>Accha</td>\n",
       "      <td>Paruro</td>\n",
       "      <td>Cusco</td>\n",
       "      <td>POLYGON ((1164542.373 533562.907, 1164551.644 ...</td>\n",
       "    </tr>\n",
       "  </tbody>\n",
       "</table>\n",
       "</div>"
      ],
      "text/plain": [
       "                  Distrito  Provincia Departamento  \\\n",
       "0                  Abancay    Abancay     Apurimac   \n",
       "1  Abelardo Pardo Lezameta  Bolognesi       Ancash   \n",
       "2                    Acari   Caraveli     Arequipa   \n",
       "3                     Acas      Ocros       Ancash   \n",
       "4                    Accha     Paruro        Cusco   \n",
       "\n",
       "                                            geometry  \n",
       "0  POLYGON ((1043456.374 578809.517, 1043472.076 ...  \n",
       "1  POLYGON ((589625.329 950159.105, 589731.729 95...  \n",
       "2  POLYGON ((855604.724 408148.590, 855990.585 40...  \n",
       "3  POLYGON ((576776.387 934936.983, 576726.618 93...  \n",
       "4  POLYGON ((1164542.373 533562.907, 1164551.644 ...  "
      ]
     },
     "execution_count": 196,
     "metadata": {},
     "output_type": "execute_result"
    }
   ],
   "source": [
    "disMap.head()"
   ]
  },
  {
   "cell_type": "markdown",
   "id": "764c5177-4ce8-4f13-92f5-aad2a7e838f1",
   "metadata": {},
   "source": [
    "### 3. Preprocess both tables and get them ready for merging."
   ]
  },
  {
   "cell_type": "code",
   "execution_count": 197,
   "id": "1b2cdfcf-00d8-405c-9a19-4dd55d1e4182",
   "metadata": {
    "tags": []
   },
   "outputs": [
    {
     "data": {
      "text/html": [
       "<div>\n",
       "<style scoped>\n",
       "    .dataframe tbody tr th:only-of-type {\n",
       "        vertical-align: middle;\n",
       "    }\n",
       "\n",
       "    .dataframe tbody tr th {\n",
       "        vertical-align: top;\n",
       "    }\n",
       "\n",
       "    .dataframe thead th {\n",
       "        text-align: right;\n",
       "    }\n",
       "</style>\n",
       "<table border=\"1\" class=\"dataframe\">\n",
       "  <thead>\n",
       "    <tr style=\"text-align: right;\">\n",
       "      <th></th>\n",
       "      <th>Distrito</th>\n",
       "      <th>Provincia</th>\n",
       "      <th>Departamento</th>\n",
       "      <th>Poblacion</th>\n",
       "      <th>secundariaCompleta_pct</th>\n",
       "      <th>sinServHigiene_pct</th>\n",
       "    </tr>\n",
       "  </thead>\n",
       "  <tbody>\n",
       "    <tr>\n",
       "      <th>0</th>\n",
       "      <td>Aramango</td>\n",
       "      <td>Bagua</td>\n",
       "      <td>Amazonas</td>\n",
       "      <td>10940</td>\n",
       "      <td>37.545885</td>\n",
       "      <td>9.1</td>\n",
       "    </tr>\n",
       "    <tr>\n",
       "      <th>1</th>\n",
       "      <td>Bagua</td>\n",
       "      <td>Bagua</td>\n",
       "      <td>Amazonas</td>\n",
       "      <td>26091</td>\n",
       "      <td>70.795501</td>\n",
       "      <td>0.7</td>\n",
       "    </tr>\n",
       "    <tr>\n",
       "      <th>2</th>\n",
       "      <td>Copallin</td>\n",
       "      <td>Bagua</td>\n",
       "      <td>Amazonas</td>\n",
       "      <td>6319</td>\n",
       "      <td>52.571361</td>\n",
       "      <td>2.1</td>\n",
       "    </tr>\n",
       "    <tr>\n",
       "      <th>3</th>\n",
       "      <td>El Parco</td>\n",
       "      <td>Bagua</td>\n",
       "      <td>Amazonas</td>\n",
       "      <td>1492</td>\n",
       "      <td>70.215409</td>\n",
       "      <td>1.5</td>\n",
       "    </tr>\n",
       "    <tr>\n",
       "      <th>4</th>\n",
       "      <td>Imaza</td>\n",
       "      <td>Bagua</td>\n",
       "      <td>Amazonas</td>\n",
       "      <td>24323</td>\n",
       "      <td>31.295719</td>\n",
       "      <td>11.7</td>\n",
       "    </tr>\n",
       "  </tbody>\n",
       "</table>\n",
       "</div>"
      ],
      "text/plain": [
       "   Distrito Provincia Departamento  Poblacion  secundariaCompleta_pct  \\\n",
       "0  Aramango     Bagua     Amazonas      10940               37.545885   \n",
       "1     Bagua     Bagua     Amazonas      26091               70.795501   \n",
       "2  Copallin     Bagua     Amazonas       6319               52.571361   \n",
       "3  El Parco     Bagua     Amazonas       1492               70.215409   \n",
       "4     Imaza     Bagua     Amazonas      24323               31.295719   \n",
       "\n",
       "   sinServHigiene_pct  \n",
       "0                 9.1  \n",
       "1                 0.7  \n",
       "2                 2.1  \n",
       "3                 1.5  \n",
       "4                11.7  "
      ]
     },
     "execution_count": 197,
     "metadata": {},
     "output_type": "execute_result"
    }
   ],
   "source": [
    "datadis.rename(columns={'Educ_sec_comp2019_pct':'secundariaCompleta_pct','Viv_sin_serv_hig2017_pct':'sinServHigiene_pct'},inplace=True)\n",
    "datadis = datadis[['Distrito','Provincia','Departamento','Poblacion','secundariaCompleta_pct','sinServHigiene_pct']]\n",
    "datadis.Distrito = datadis.Distrito.str.title()\n",
    "datadis.head()"
   ]
  },
  {
   "cell_type": "markdown",
   "id": "165d7394-8d09-4c19-80df-e8605a5f6825",
   "metadata": {},
   "source": [
    "### 4. Do the merging, making the changes needed so that you keep the most columns."
   ]
  },
  {
   "cell_type": "code",
   "execution_count": 198,
   "id": "f46e25fe-7441-45a3-8687-36b93cce4880",
   "metadata": {},
   "outputs": [
    {
     "data": {
      "text/html": [
       "<div>\n",
       "<style scoped>\n",
       "    .dataframe tbody tr th:only-of-type {\n",
       "        vertical-align: middle;\n",
       "    }\n",
       "\n",
       "    .dataframe tbody tr th {\n",
       "        vertical-align: top;\n",
       "    }\n",
       "\n",
       "    .dataframe thead th {\n",
       "        text-align: right;\n",
       "    }\n",
       "</style>\n",
       "<table border=\"1\" class=\"dataframe\">\n",
       "  <thead>\n",
       "    <tr style=\"text-align: right;\">\n",
       "      <th></th>\n",
       "      <th>Distrito</th>\n",
       "      <th>Provincia_x</th>\n",
       "      <th>Departamento_x</th>\n",
       "      <th>geometry</th>\n",
       "      <th>Provincia_y</th>\n",
       "      <th>Departamento_y</th>\n",
       "      <th>Poblacion</th>\n",
       "      <th>secundariaCompleta_pct</th>\n",
       "      <th>sinServHigiene_pct</th>\n",
       "    </tr>\n",
       "  </thead>\n",
       "  <tbody>\n",
       "    <tr>\n",
       "      <th>0</th>\n",
       "      <td>Abancay</td>\n",
       "      <td>Abancay</td>\n",
       "      <td>Apurimac</td>\n",
       "      <td>POLYGON ((1043456.374 578809.517, 1043472.076 ...</td>\n",
       "      <td>Abancay</td>\n",
       "      <td>Apurimac</td>\n",
       "      <td>56871</td>\n",
       "      <td>78.865450</td>\n",
       "      <td>2.9</td>\n",
       "    </tr>\n",
       "    <tr>\n",
       "      <th>1</th>\n",
       "      <td>Abelardo Pardo Lezameta</td>\n",
       "      <td>Bolognesi</td>\n",
       "      <td>Ancash</td>\n",
       "      <td>POLYGON ((589625.329 950159.105, 589731.729 95...</td>\n",
       "      <td>Bolognesi</td>\n",
       "      <td>Ancash</td>\n",
       "      <td>1263</td>\n",
       "      <td>50.434603</td>\n",
       "      <td>25.4</td>\n",
       "    </tr>\n",
       "    <tr>\n",
       "      <th>2</th>\n",
       "      <td>Acari</td>\n",
       "      <td>Caraveli</td>\n",
       "      <td>Arequipa</td>\n",
       "      <td>POLYGON ((855604.724 408148.590, 855990.585 40...</td>\n",
       "      <td>Caraveli</td>\n",
       "      <td>Arequipa</td>\n",
       "      <td>3010</td>\n",
       "      <td>56.273614</td>\n",
       "      <td>8.8</td>\n",
       "    </tr>\n",
       "    <tr>\n",
       "      <th>3</th>\n",
       "      <td>Acas</td>\n",
       "      <td>Ocros</td>\n",
       "      <td>Ancash</td>\n",
       "      <td>POLYGON ((576776.387 934936.983, 576726.618 93...</td>\n",
       "      <td>Ocros</td>\n",
       "      <td>Ancash</td>\n",
       "      <td>1057</td>\n",
       "      <td>72.527156</td>\n",
       "      <td>67.6</td>\n",
       "    </tr>\n",
       "    <tr>\n",
       "      <th>4</th>\n",
       "      <td>Accha</td>\n",
       "      <td>Paruro</td>\n",
       "      <td>Cusco</td>\n",
       "      <td>POLYGON ((1164542.373 533562.907, 1164551.644 ...</td>\n",
       "      <td>Paruro</td>\n",
       "      <td>Cusco</td>\n",
       "      <td>3839</td>\n",
       "      <td>64.586647</td>\n",
       "      <td>11.1</td>\n",
       "    </tr>\n",
       "  </tbody>\n",
       "</table>\n",
       "</div>"
      ],
      "text/plain": [
       "                  Distrito Provincia_x Departamento_x  \\\n",
       "0                  Abancay     Abancay       Apurimac   \n",
       "1  Abelardo Pardo Lezameta   Bolognesi         Ancash   \n",
       "2                    Acari    Caraveli       Arequipa   \n",
       "3                     Acas       Ocros         Ancash   \n",
       "4                    Accha      Paruro          Cusco   \n",
       "\n",
       "                                            geometry Provincia_y  \\\n",
       "0  POLYGON ((1043456.374 578809.517, 1043472.076 ...     Abancay   \n",
       "1  POLYGON ((589625.329 950159.105, 589731.729 95...   Bolognesi   \n",
       "2  POLYGON ((855604.724 408148.590, 855990.585 40...    Caraveli   \n",
       "3  POLYGON ((576776.387 934936.983, 576726.618 93...       Ocros   \n",
       "4  POLYGON ((1164542.373 533562.907, 1164551.644 ...      Paruro   \n",
       "\n",
       "  Departamento_y  Poblacion  secundariaCompleta_pct  sinServHigiene_pct  \n",
       "0       Apurimac      56871               78.865450                 2.9  \n",
       "1         Ancash       1263               50.434603                25.4  \n",
       "2       Arequipa       3010               56.273614                 8.8  \n",
       "3         Ancash       1057               72.527156                67.6  \n",
       "4          Cusco       3839               64.586647                11.1  "
      ]
     },
     "execution_count": 198,
     "metadata": {},
     "output_type": "execute_result"
    }
   ],
   "source": [
    "disMap.merge(datadis,how='inner',left_on='Distrito', right_on='Distrito').head()"
   ]
  },
  {
   "cell_type": "code",
   "execution_count": 199,
   "id": "007d2c3f-8095-4b65-a2ea-e2e8c8d5bd71",
   "metadata": {
    "tags": []
   },
   "outputs": [
    {
     "data": {
      "text/plain": [
       "(1873, 4)"
      ]
     },
     "execution_count": 199,
     "metadata": {},
     "output_type": "execute_result"
    }
   ],
   "source": [
    "disMap.shape"
   ]
  },
  {
   "cell_type": "code",
   "execution_count": 200,
   "id": "2b0c9b57-8f7c-4799-9b29-e8fd2ca7c481",
   "metadata": {
    "tags": []
   },
   "outputs": [
    {
     "data": {
      "text/plain": [
       "(1874, 6)"
      ]
     },
     "execution_count": 200,
     "metadata": {},
     "output_type": "execute_result"
    }
   ],
   "source": [
    "datadis.shape"
   ]
  },
  {
   "cell_type": "code",
   "execution_count": 201,
   "id": "e0b6247d-29d0-4313-a91d-3a338658b5fc",
   "metadata": {
    "tags": []
   },
   "outputs": [
    {
     "data": {
      "text/plain": [
       "(2222, 9)"
      ]
     },
     "execution_count": 201,
     "metadata": {},
     "output_type": "execute_result"
    }
   ],
   "source": [
    "disMap.merge(datadis,how='inner',left_on='Distrito', right_on='Distrito').shape"
   ]
  },
  {
   "cell_type": "code",
   "execution_count": 202,
   "id": "2bcbeab8-4e99-43ca-b8bd-52e9657c8734",
   "metadata": {
    "tags": []
   },
   "outputs": [],
   "source": [
    "# all capitals, no empty spaces before or after.\n",
    "\n",
    "titleColumns=lambda x: x.str.title().str.strip()\n",
    "datadis[['Distrito','Provincia']]=datadis[['Distrito','Provincia']].apply(titleColumns)\n",
    "disMap[['Distrito','Provincia']]=disMap[['Distrito','Provincia']].apply(titleColumns)"
   ]
  },
  {
   "cell_type": "code",
   "execution_count": 203,
   "id": "8e834496-303c-4ab8-a0af-393dc3be019b",
   "metadata": {
    "tags": []
   },
   "outputs": [
    {
     "data": {
      "text/plain": [
       "(2365, 9)"
      ]
     },
     "execution_count": 203,
     "metadata": {},
     "output_type": "execute_result"
    }
   ],
   "source": [
    "disMap.merge(datadis, how='inner',left_on='Distrito', right_on='Distrito').shape"
   ]
  },
  {
   "cell_type": "code",
   "execution_count": 204,
   "id": "7f420718-b456-4d93-bc9f-a98bff0f0e03",
   "metadata": {
    "tags": []
   },
   "outputs": [
    {
     "data": {
      "text/html": [
       "<div>\n",
       "<style scoped>\n",
       "    .dataframe tbody tr th:only-of-type {\n",
       "        vertical-align: middle;\n",
       "    }\n",
       "\n",
       "    .dataframe tbody tr th {\n",
       "        vertical-align: top;\n",
       "    }\n",
       "\n",
       "    .dataframe thead th {\n",
       "        text-align: right;\n",
       "    }\n",
       "</style>\n",
       "<table border=\"1\" class=\"dataframe\">\n",
       "  <thead>\n",
       "    <tr style=\"text-align: right;\">\n",
       "      <th></th>\n",
       "      <th>Distrito</th>\n",
       "      <th>Provincia_x</th>\n",
       "      <th>Departamento_x</th>\n",
       "      <th>geometry</th>\n",
       "      <th>Provincia_y</th>\n",
       "      <th>Departamento_y</th>\n",
       "      <th>Poblacion</th>\n",
       "      <th>secundariaCompleta_pct</th>\n",
       "      <th>sinServHigiene_pct</th>\n",
       "    </tr>\n",
       "  </thead>\n",
       "  <tbody>\n",
       "    <tr>\n",
       "      <th>0</th>\n",
       "      <td>Abancay</td>\n",
       "      <td>Abancay</td>\n",
       "      <td>Apurimac</td>\n",
       "      <td>POLYGON ((1043456.374 578809.517, 1043472.076 ...</td>\n",
       "      <td>Abancay</td>\n",
       "      <td>Apurimac</td>\n",
       "      <td>56871</td>\n",
       "      <td>78.865450</td>\n",
       "      <td>2.9</td>\n",
       "    </tr>\n",
       "    <tr>\n",
       "      <th>1</th>\n",
       "      <td>Abelardo Pardo Lezameta</td>\n",
       "      <td>Bolognesi</td>\n",
       "      <td>Ancash</td>\n",
       "      <td>POLYGON ((589625.329 950159.105, 589731.729 95...</td>\n",
       "      <td>Bolognesi</td>\n",
       "      <td>Ancash</td>\n",
       "      <td>1263</td>\n",
       "      <td>50.434603</td>\n",
       "      <td>25.4</td>\n",
       "    </tr>\n",
       "    <tr>\n",
       "      <th>2</th>\n",
       "      <td>Acari</td>\n",
       "      <td>Caraveli</td>\n",
       "      <td>Arequipa</td>\n",
       "      <td>POLYGON ((855604.724 408148.590, 855990.585 40...</td>\n",
       "      <td>Caraveli</td>\n",
       "      <td>Arequipa</td>\n",
       "      <td>3010</td>\n",
       "      <td>56.273614</td>\n",
       "      <td>8.8</td>\n",
       "    </tr>\n",
       "    <tr>\n",
       "      <th>3</th>\n",
       "      <td>Acas</td>\n",
       "      <td>Ocros</td>\n",
       "      <td>Ancash</td>\n",
       "      <td>POLYGON ((576776.387 934936.983, 576726.618 93...</td>\n",
       "      <td>Ocros</td>\n",
       "      <td>Ancash</td>\n",
       "      <td>1057</td>\n",
       "      <td>72.527156</td>\n",
       "      <td>67.6</td>\n",
       "    </tr>\n",
       "    <tr>\n",
       "      <th>4</th>\n",
       "      <td>Accha</td>\n",
       "      <td>Paruro</td>\n",
       "      <td>Cusco</td>\n",
       "      <td>POLYGON ((1164542.373 533562.907, 1164551.644 ...</td>\n",
       "      <td>Paruro</td>\n",
       "      <td>Cusco</td>\n",
       "      <td>3839</td>\n",
       "      <td>64.586647</td>\n",
       "      <td>11.1</td>\n",
       "    </tr>\n",
       "  </tbody>\n",
       "</table>\n",
       "</div>"
      ],
      "text/plain": [
       "                  Distrito Provincia_x Departamento_x  \\\n",
       "0                  Abancay     Abancay       Apurimac   \n",
       "1  Abelardo Pardo Lezameta   Bolognesi         Ancash   \n",
       "2                    Acari    Caraveli       Arequipa   \n",
       "3                     Acas       Ocros         Ancash   \n",
       "4                    Accha      Paruro          Cusco   \n",
       "\n",
       "                                            geometry Provincia_y  \\\n",
       "0  POLYGON ((1043456.374 578809.517, 1043472.076 ...     Abancay   \n",
       "1  POLYGON ((589625.329 950159.105, 589731.729 95...   Bolognesi   \n",
       "2  POLYGON ((855604.724 408148.590, 855990.585 40...    Caraveli   \n",
       "3  POLYGON ((576776.387 934936.983, 576726.618 93...       Ocros   \n",
       "4  POLYGON ((1164542.373 533562.907, 1164551.644 ...      Paruro   \n",
       "\n",
       "  Departamento_y  Poblacion  secundariaCompleta_pct  sinServHigiene_pct  \n",
       "0       Apurimac      56871               78.865450                 2.9  \n",
       "1         Ancash       1263               50.434603                25.4  \n",
       "2       Arequipa       3010               56.273614                 8.8  \n",
       "3         Ancash       1057               72.527156                67.6  \n",
       "4          Cusco       3839               64.586647                11.1  "
      ]
     },
     "execution_count": 204,
     "metadata": {},
     "output_type": "execute_result"
    }
   ],
   "source": [
    "disMap.merge(datadis, how='inner',left_on='Distrito', right_on='Distrito').head()"
   ]
  },
  {
   "cell_type": "code",
   "execution_count": 205,
   "id": "1f5d613f-44d2-4a29-9883-f72d9f32b11f",
   "metadata": {
    "tags": []
   },
   "outputs": [
    {
     "data": {
      "text/plain": [
       "(154, 153)"
      ]
     },
     "execution_count": 205,
     "metadata": {},
     "output_type": "execute_result"
    }
   ],
   "source": [
    "datadis.Distrito.duplicated().sum(),disMap.Distrito.duplicated().sum()"
   ]
  },
  {
   "cell_type": "code",
   "execution_count": 206,
   "id": "0223a8e3-8a78-49b4-bd5f-3fa7f541448e",
   "metadata": {
    "tags": []
   },
   "outputs": [],
   "source": [
    "datadis['provDist']=[\"+\".join(pd) for pd in zip (datadis.Provincia,datadis.Distrito)]\n",
    "disMap['provDist']=[\"+\".join(pd) for pd in zip (disMap.Provincia,disMap.Distrito)]"
   ]
  },
  {
   "cell_type": "code",
   "execution_count": 207,
   "id": "32799400-0f5f-4ca3-ac0c-96c7c33261ff",
   "metadata": {
    "tags": []
   },
   "outputs": [],
   "source": [
    "datadis['provDist']=datadis.provDist.str.replace(\"\\-|\\_|\\s+\",\" \",regex=True)\n",
    "disMap['provDist']=disMap.provDist.str.replace(\"\\-|\\_|\\s+\",\" \",regex=True)"
   ]
  },
  {
   "cell_type": "code",
   "execution_count": 208,
   "id": "358621fd-2bbb-48c8-8eab-144d94aedef2",
   "metadata": {
    "tags": []
   },
   "outputs": [
    {
     "data": {
      "text/html": [
       "<div>\n",
       "<style scoped>\n",
       "    .dataframe tbody tr th:only-of-type {\n",
       "        vertical-align: middle;\n",
       "    }\n",
       "\n",
       "    .dataframe tbody tr th {\n",
       "        vertical-align: top;\n",
       "    }\n",
       "\n",
       "    .dataframe thead th {\n",
       "        text-align: right;\n",
       "    }\n",
       "</style>\n",
       "<table border=\"1\" class=\"dataframe\">\n",
       "  <thead>\n",
       "    <tr style=\"text-align: right;\">\n",
       "      <th></th>\n",
       "      <th>Distrito</th>\n",
       "      <th>Provincia</th>\n",
       "      <th>Departamento</th>\n",
       "      <th>geometry</th>\n",
       "      <th>provDist</th>\n",
       "    </tr>\n",
       "  </thead>\n",
       "  <tbody>\n",
       "    <tr>\n",
       "      <th>0</th>\n",
       "      <td>Abancay</td>\n",
       "      <td>Abancay</td>\n",
       "      <td>Apurimac</td>\n",
       "      <td>POLYGON ((1043456.374 578809.517, 1043472.076 ...</td>\n",
       "      <td>Abancay+Abancay</td>\n",
       "    </tr>\n",
       "    <tr>\n",
       "      <th>1</th>\n",
       "      <td>Abelardo Pardo Lezameta</td>\n",
       "      <td>Bolognesi</td>\n",
       "      <td>Ancash</td>\n",
       "      <td>POLYGON ((589625.329 950159.105, 589731.729 95...</td>\n",
       "      <td>Bolognesi+Abelardo Pardo Lezameta</td>\n",
       "    </tr>\n",
       "    <tr>\n",
       "      <th>2</th>\n",
       "      <td>Acari</td>\n",
       "      <td>Caraveli</td>\n",
       "      <td>Arequipa</td>\n",
       "      <td>POLYGON ((855604.724 408148.590, 855990.585 40...</td>\n",
       "      <td>Caraveli+Acari</td>\n",
       "    </tr>\n",
       "    <tr>\n",
       "      <th>3</th>\n",
       "      <td>Acas</td>\n",
       "      <td>Ocros</td>\n",
       "      <td>Ancash</td>\n",
       "      <td>POLYGON ((576776.387 934936.983, 576726.618 93...</td>\n",
       "      <td>Ocros+Acas</td>\n",
       "    </tr>\n",
       "    <tr>\n",
       "      <th>4</th>\n",
       "      <td>Accha</td>\n",
       "      <td>Paruro</td>\n",
       "      <td>Cusco</td>\n",
       "      <td>POLYGON ((1164542.373 533562.907, 1164551.644 ...</td>\n",
       "      <td>Paruro+Accha</td>\n",
       "    </tr>\n",
       "  </tbody>\n",
       "</table>\n",
       "</div>"
      ],
      "text/plain": [
       "                  Distrito  Provincia Departamento  \\\n",
       "0                  Abancay    Abancay     Apurimac   \n",
       "1  Abelardo Pardo Lezameta  Bolognesi       Ancash   \n",
       "2                    Acari   Caraveli     Arequipa   \n",
       "3                     Acas      Ocros       Ancash   \n",
       "4                    Accha     Paruro        Cusco   \n",
       "\n",
       "                                            geometry  \\\n",
       "0  POLYGON ((1043456.374 578809.517, 1043472.076 ...   \n",
       "1  POLYGON ((589625.329 950159.105, 589731.729 95...   \n",
       "2  POLYGON ((855604.724 408148.590, 855990.585 40...   \n",
       "3  POLYGON ((576776.387 934936.983, 576726.618 93...   \n",
       "4  POLYGON ((1164542.373 533562.907, 1164551.644 ...   \n",
       "\n",
       "                            provDist  \n",
       "0                    Abancay+Abancay  \n",
       "1  Bolognesi+Abelardo Pardo Lezameta  \n",
       "2                     Caraveli+Acari  \n",
       "3                         Ocros+Acas  \n",
       "4                       Paruro+Accha  "
      ]
     },
     "execution_count": 208,
     "metadata": {},
     "output_type": "execute_result"
    }
   ],
   "source": [
    "disMap.head()"
   ]
  },
  {
   "cell_type": "code",
   "execution_count": 209,
   "id": "e4fa98bf-e5d0-428d-ac62-07f6c6e6110f",
   "metadata": {
    "tags": []
   },
   "outputs": [],
   "source": [
    "nomatch_df=set(datadis.provDist)- set(disMap.provDist)\n",
    "nomatch_gdf=set(disMap.provDist)-set(datadis.provDist)"
   ]
  },
  {
   "cell_type": "code",
   "execution_count": 210,
   "id": "26233ea9-1e10-4fc3-9cc4-5a770b9f4500",
   "metadata": {
    "tags": []
   },
   "outputs": [
    {
     "data": {
      "text/plain": [
       "{'Andahuaylas+José María Arguedas',\n",
       " 'Aymaraes+Huayllo',\n",
       " 'Chupaca+San Juan De Yscos',\n",
       " 'Huamanga+Andrés Avelino Cáceres Dorregaray',\n",
       " 'Huanuco+Quisqui',\n",
       " 'Huaraz+Pampas',\n",
       " 'Leoncio Prado+Daniel Alomias Robles',\n",
       " 'Nazca+Changuillo',\n",
       " 'Nazca+El Ingenio',\n",
       " 'Nazca+Marcona',\n",
       " 'Nazca+Nazca',\n",
       " 'Nazca+Vista Alegre',\n",
       " 'Oxapampa+Constitución',\n",
       " 'Piura+26 De Octubre',\n",
       " 'Satipo+Mazamari',\n",
       " 'Satipo+Pangoa',\n",
       " 'Satipo+Vizcatán Del Ene',\n",
       " 'Tayacaja+Santiago De Túcuma',\n",
       " 'Yauyos+Ayauca'}"
      ]
     },
     "execution_count": 210,
     "metadata": {},
     "output_type": "execute_result"
    }
   ],
   "source": [
    "nomatch_df"
   ]
  },
  {
   "cell_type": "code",
   "execution_count": 211,
   "id": "3ab59042-d595-48f1-bf86-3178fc88d84a",
   "metadata": {
    "tags": []
   },
   "outputs": [
    {
     "data": {
      "text/plain": [
       "{'Andahuaylas+Jose Maria Arguedas',\n",
       " 'Aymaraes+Ihuayllo',\n",
       " 'Chupaca+San Juan De Iscos',\n",
       " 'Huamanga+Andres Avelino Caceres Dorregaray',\n",
       " 'Huanuco+Quisqui (Kichki)',\n",
       " 'Huaraz+Pampas Grande',\n",
       " 'Leoncio Prado+Daniel Alomia Robles',\n",
       " 'Nasca+Changuillo',\n",
       " 'Nasca+El Ingenio',\n",
       " 'Nasca+Marcona',\n",
       " 'Nasca+Nasca',\n",
       " 'Nasca+Vista Alegre',\n",
       " 'Oxapampa+Constitucion',\n",
       " 'Piura+Veintiseis De Octubre',\n",
       " 'Satipo+Mazamari   Pangoa',\n",
       " 'Satipo+Vizcatan Del Ene',\n",
       " 'Tayacaja+Santiago De Tucuma',\n",
       " 'Yauyos+Allauca'}"
      ]
     },
     "execution_count": 211,
     "metadata": {},
     "output_type": "execute_result"
    }
   ],
   "source": [
    "nomatch_gdf"
   ]
  },
  {
   "cell_type": "code",
   "execution_count": 212,
   "id": "bce85284-2efb-48a1-9f14-9b0bb6e78a92",
   "metadata": {
    "tags": []
   },
   "outputs": [
    {
     "data": {
      "text/plain": [
       "(19, 18)"
      ]
     },
     "execution_count": 212,
     "metadata": {},
     "output_type": "execute_result"
    }
   ],
   "source": [
    "len(nomatch_df), len(nomatch_gdf)"
   ]
  },
  {
   "cell_type": "code",
   "execution_count": 213,
   "id": "24219a0e-bd5b-4627-b720-8cc75d670258",
   "metadata": {
    "tags": []
   },
   "outputs": [
    {
     "data": {
      "text/plain": [
       "[('Andahuaylas+José María Arguedas', ('Andahuaylas+Jose Maria Arguedas', 94)),\n",
       " ('Aymaraes+Huayllo', ('Aymaraes+Ihuayllo', 97)),\n",
       " ('Chupaca+San Juan De Yscos', ('Chupaca+San Juan De Iscos', 96)),\n",
       " ('Huamanga+Andrés Avelino Cáceres Dorregaray',\n",
       "  ('Huamanga+Andres Avelino Caceres Dorregaray', 95)),\n",
       " ('Huanuco+Quisqui', ('Huanuco+Quisqui (Kichki)', 90)),\n",
       " ('Huaraz+Pampas', ('Huaraz+Pampas Grande', 90)),\n",
       " ('Leoncio Prado+Daniel Alomias Robles',\n",
       "  ('Leoncio Prado+Daniel Alomia Robles', 99)),\n",
       " ('Nazca+Changuillo', ('Nasca+Changuillo', 94)),\n",
       " ('Nazca+El Ingenio', ('Nasca+El Ingenio', 94)),\n",
       " ('Nazca+Marcona', ('Nasca+Marcona', 92)),\n",
       " ('Nazca+Nazca', ('Nasca+Nasca', 82)),\n",
       " ('Nazca+Vista Alegre', ('Nasca+Vista Alegre', 94)),\n",
       " ('Oxapampa+Constitución', ('Oxapampa+Constitucion', 95)),\n",
       " ('Piura+26 De Octubre', ('Piura+Veintiseis De Octubre', 87)),\n",
       " ('Satipo+Mazamari', ('Satipo+Mazamari   Pangoa', 90)),\n",
       " ('Satipo+Pangoa', ('Satipo+Vizcatan Del Ene', 86)),\n",
       " ('Satipo+Vizcatán Del Ene', ('Satipo+Vizcatan Del Ene', 96)),\n",
       " ('Tayacaja+Santiago De Túcuma', ('Tayacaja+Santiago De Tucuma', 96)),\n",
       " ('Yauyos+Ayauca', ('Yauyos+Allauca', 89))]"
      ]
     },
     "execution_count": 213,
     "metadata": {},
     "output_type": "execute_result"
    }
   ],
   "source": [
    "from thefuzz import process\n",
    "[(dis,process.extractOne(dis,nomatch_gdf)) for dis in sorted(nomatch_df)]"
   ]
  },
  {
   "cell_type": "code",
   "execution_count": 214,
   "id": "f44232eb-9e08-46db-ae8b-c1fdcc06e15d",
   "metadata": {
    "tags": []
   },
   "outputs": [
    {
     "data": {
      "text/plain": [
       "{'Andahuaylas+José María Arguedas': 'Andahuaylas+Jose Maria Arguedas',\n",
       " 'Aymaraes+Huayllo': 'Aymaraes+Ihuayllo',\n",
       " 'Chupaca+San Juan De Yscos': 'Chupaca+San Juan De Iscos',\n",
       " 'Huamanga+Andrés Avelino Cáceres Dorregaray': 'Huamanga+Andres Avelino Caceres Dorregaray',\n",
       " 'Huanuco+Quisqui': 'Huanuco+Quisqui (Kichki)',\n",
       " 'Huaraz+Pampas': 'Huaraz+Pampas Grande',\n",
       " 'Leoncio Prado+Daniel Alomias Robles': 'Leoncio Prado+Daniel Alomia Robles',\n",
       " 'Nazca+Changuillo': 'Nasca+Changuillo',\n",
       " 'Nazca+El Ingenio': 'Nasca+El Ingenio',\n",
       " 'Nazca+Marcona': 'Nasca+Marcona',\n",
       " 'Nazca+Nazca': 'Nasca+Nasca',\n",
       " 'Nazca+Vista Alegre': 'Nasca+Vista Alegre',\n",
       " 'Oxapampa+Constitución': 'Oxapampa+Constitucion',\n",
       " 'Piura+26 De Octubre': 'Piura+Veintiseis De Octubre',\n",
       " 'Satipo+Mazamari': 'Satipo+Mazamari   Pangoa',\n",
       " 'Satipo+Pangoa': 'Satipo+Vizcatan Del Ene',\n",
       " 'Satipo+Vizcatán Del Ene': 'Satipo+Vizcatan Del Ene',\n",
       " 'Tayacaja+Santiago De Túcuma': 'Tayacaja+Santiago De Tucuma',\n",
       " 'Yauyos+Ayauca': 'Yauyos+Allauca'}"
      ]
     },
     "execution_count": 214,
     "metadata": {},
     "output_type": "execute_result"
    }
   ],
   "source": [
    "{dis:process.extractOne(dis,nomatch_gdf)[0] for dis in sorted(nomatch_df)}"
   ]
  },
  {
   "cell_type": "code",
   "execution_count": 215,
   "id": "c2b13256-6683-40d9-9f19-03196e990876",
   "metadata": {
    "tags": []
   },
   "outputs": [],
   "source": [
    "changesDis_df={dis:process.extractOne(dis,nomatch_gdf)[0] for dis in sorted(nomatch_df)}\n",
    "datadis.provDist.replace(changesDis_df,inplace=True)"
   ]
  },
  {
   "cell_type": "code",
   "execution_count": 216,
   "id": "7aed763d-e3c1-4be3-b316-b71f7df56b89",
   "metadata": {
    "tags": []
   },
   "outputs": [
    {
     "name": "stdout",
     "output_type": "stream",
     "text": [
      "<class 'geopandas.geodataframe.GeoDataFrame'>\n",
      "RangeIndex: 1874 entries, 0 to 1873\n",
      "Data columns (total 11 columns):\n",
      " #   Column                  Non-Null Count  Dtype   \n",
      "---  ------                  --------------  -----   \n",
      " 0   Distrito_x              1874 non-null   object  \n",
      " 1   Provincia_x             1874 non-null   object  \n",
      " 2   Departamento_x          1874 non-null   object  \n",
      " 3   geometry                1874 non-null   geometry\n",
      " 4   provDist                1874 non-null   object  \n",
      " 5   Distrito_y              1874 non-null   object  \n",
      " 6   Provincia_y             1874 non-null   object  \n",
      " 7   Departamento_y          1874 non-null   object  \n",
      " 8   Poblacion               1874 non-null   int64   \n",
      " 9   secundariaCompleta_pct  1874 non-null   float64 \n",
      " 10  sinServHigiene_pct      1874 non-null   float64 \n",
      "dtypes: float64(2), geometry(1), int64(1), object(7)\n",
      "memory usage: 161.2+ KB\n"
     ]
    }
   ],
   "source": [
    "disMapMerge=disMap.merge(datadis, on='provDist')\n",
    "# check\n",
    "disMapMerge.info()"
   ]
  },
  {
   "cell_type": "code",
   "execution_count": 217,
   "id": "6dfa159a-5dfc-4cf8-a332-e819a45875f0",
   "metadata": {
    "tags": []
   },
   "outputs": [
    {
     "data": {
      "text/plain": [
       "(1874, 11)"
      ]
     },
     "execution_count": 217,
     "metadata": {},
     "output_type": "execute_result"
    }
   ],
   "source": [
    "disMapMerge.shape"
   ]
  },
  {
   "cell_type": "code",
   "execution_count": 218,
   "id": "96c7914a-c197-4dc9-9b25-ac014c867cd9",
   "metadata": {
    "tags": []
   },
   "outputs": [
    {
     "data": {
      "text/html": [
       "<div>\n",
       "<style scoped>\n",
       "    .dataframe tbody tr th:only-of-type {\n",
       "        vertical-align: middle;\n",
       "    }\n",
       "\n",
       "    .dataframe tbody tr th {\n",
       "        vertical-align: top;\n",
       "    }\n",
       "\n",
       "    .dataframe thead th {\n",
       "        text-align: right;\n",
       "    }\n",
       "</style>\n",
       "<table border=\"1\" class=\"dataframe\">\n",
       "  <thead>\n",
       "    <tr style=\"text-align: right;\">\n",
       "      <th></th>\n",
       "      <th>provDist</th>\n",
       "      <th>Provincia</th>\n",
       "      <th>Distrito</th>\n",
       "      <th>Poblacion</th>\n",
       "      <th>secundariaCompleta_pct</th>\n",
       "      <th>sinServHigiene_pct</th>\n",
       "    </tr>\n",
       "  </thead>\n",
       "  <tbody>\n",
       "    <tr>\n",
       "      <th>0</th>\n",
       "      <td>Abancay+Abancay</td>\n",
       "      <td>Abancay</td>\n",
       "      <td>Abancay</td>\n",
       "      <td>56871</td>\n",
       "      <td>78.865450</td>\n",
       "      <td>2.9</td>\n",
       "    </tr>\n",
       "    <tr>\n",
       "      <th>1</th>\n",
       "      <td>Bolognesi+Abelardo Pardo Lezameta</td>\n",
       "      <td>Bolognesi</td>\n",
       "      <td>Abelardo Pardo Lezameta</td>\n",
       "      <td>1263</td>\n",
       "      <td>50.434603</td>\n",
       "      <td>25.4</td>\n",
       "    </tr>\n",
       "    <tr>\n",
       "      <th>2</th>\n",
       "      <td>Caraveli+Acari</td>\n",
       "      <td>Caraveli</td>\n",
       "      <td>Acari</td>\n",
       "      <td>3010</td>\n",
       "      <td>56.273614</td>\n",
       "      <td>8.8</td>\n",
       "    </tr>\n",
       "    <tr>\n",
       "      <th>3</th>\n",
       "      <td>Ocros+Acas</td>\n",
       "      <td>Ocros</td>\n",
       "      <td>Acas</td>\n",
       "      <td>1057</td>\n",
       "      <td>72.527156</td>\n",
       "      <td>67.6</td>\n",
       "    </tr>\n",
       "    <tr>\n",
       "      <th>4</th>\n",
       "      <td>Paruro+Accha</td>\n",
       "      <td>Paruro</td>\n",
       "      <td>Accha</td>\n",
       "      <td>3839</td>\n",
       "      <td>64.586647</td>\n",
       "      <td>11.1</td>\n",
       "    </tr>\n",
       "  </tbody>\n",
       "</table>\n",
       "</div>"
      ],
      "text/plain": [
       "                            provDist  Provincia                 Distrito  \\\n",
       "0                    Abancay+Abancay    Abancay                  Abancay   \n",
       "1  Bolognesi+Abelardo Pardo Lezameta  Bolognesi  Abelardo Pardo Lezameta   \n",
       "2                     Caraveli+Acari   Caraveli                    Acari   \n",
       "3                         Ocros+Acas      Ocros                     Acas   \n",
       "4                       Paruro+Accha     Paruro                    Accha   \n",
       "\n",
       "   Poblacion  secundariaCompleta_pct  sinServHigiene_pct  \n",
       "0      56871               78.865450                 2.9  \n",
       "1       1263               50.434603                25.4  \n",
       "2       3010               56.273614                 8.8  \n",
       "3       1057               72.527156                67.6  \n",
       "4       3839               64.586647                11.1  "
      ]
     },
     "execution_count": 218,
     "metadata": {},
     "output_type": "execute_result"
    }
   ],
   "source": [
    "disMapMerge = disMapMerge[['provDist','Provincia_y','Distrito_y','Poblacion','secundariaCompleta_pct','sinServHigiene_pct']]\n",
    "disMapMerge.rename(columns={'Provincia_y':'Provincia','Distrito_y':'Distrito'},inplace=True)\n",
    "disMapMerge.head()"
   ]
  },
  {
   "cell_type": "markdown",
   "id": "82317613-c35a-4523-947e-c941a721d3bc",
   "metadata": {},
   "source": [
    "## Exercise 6"
   ]
  },
  {
   "cell_type": "markdown",
   "id": "4df0fc91-d43d-4158-9b51-4f39a2a8a690",
   "metadata": {},
   "source": [
    "### 1. Choose a numeric variable from your merged data."
   ]
  },
  {
   "cell_type": "code",
   "execution_count": 219,
   "id": "55155bef-85d3-4e10-b8cb-ed7e7303c752",
   "metadata": {
    "tags": []
   },
   "outputs": [
    {
     "data": {
      "text/plain": [
       "count    1874.000000\n",
       "mean       55.769523\n",
       "std        15.728123\n",
       "min        11.974433\n",
       "25%        44.466678\n",
       "50%        57.164771\n",
       "75%        68.202230\n",
       "max        91.744878\n",
       "Name: secundariaCompleta_pct, dtype: float64"
      ]
     },
     "execution_count": 219,
     "metadata": {},
     "output_type": "execute_result"
    }
   ],
   "source": [
    "disMapMerge.secundariaCompleta_pct.describe()"
   ]
  },
  {
   "cell_type": "code",
   "execution_count": 220,
   "id": "7ae6d053-b506-4209-a242-ff6e9d2151fc",
   "metadata": {
    "tags": []
   },
   "outputs": [
    {
     "data": {
      "text/plain": [
       "<Axes: xlabel='secundariaCompleta_pct', ylabel='Count'>"
      ]
     },
     "execution_count": 220,
     "metadata": {},
     "output_type": "execute_result"
    },
    {
     "data": {
      "image/png": "[encoded data removed]",
      "text/plain": [
       "<Figure size 640x480 with 1 Axes>"
      ]
     },
     "metadata": {},
     "output_type": "display_data"
    }
   ],
   "source": [
    "import seaborn as sea\n",
    "\n",
    "sea.histplot(disMapMerge.secundariaCompleta_pct, color='purple')"
   ]
  },
  {
   "cell_type": "code",
   "execution_count": null,
   "id": "eb3afc3c-c692-4977-afcb-59a2172e7ceb",
   "metadata": {},
   "outputs": [],
   "source": [
    "pip install numba"
   ]
  },
  {
   "cell_type": "markdown",
   "id": "e824465f-09c1-4e8e-a27b-b2a77b8273e0",
   "metadata": {},
   "source": [
    "### 2. Decide which is the  best classification scheme for that variable."
   ]
  },
  {
   "cell_type": "markdown",
   "id": "92adaff1-630a-4eed-820d-742085bf4e52",
   "metadata": {},
   "source": [
    "### 3. Make a map for the best scheme."
   ]
  },
  {
   "cell_type": "markdown",
   "id": "2be11e08-d522-4576-91e3-31ab51ef9412",
   "metadata": {},
   "source": [
    "### 4. Make a histogram for the best scheme."
   ]
  },
  {
   "cell_type": "markdown",
   "id": "f0afe143-3bbf-4993-acec-5d77338517c8",
   "metadata": {},
   "source": [
    "## Exercise 7"
   ]
  },
  {
   "cell_type": "markdown",
   "id": "15c12356-3dc7-40db-b7fe-f4c6d9af4fa6",
   "metadata": {},
   "source": [
    "        \n",
    "#### Compute the neighbors of the capital of your country. Plot the results for each of the options."
   ]
  },
  {
   "cell_type": "markdown",
   "id": "448f13bb-fb2f-4b93-938c-63518a282fb8",
   "metadata": {},
   "source": [
    "## Exercise 8"
   ]
  },
  {
   "cell_type": "markdown",
   "id": "37a450f9-b6e8-4963-bd5c-9129117407ce",
   "metadata": {},
   "source": [
    "    \n",
    "### 1. Compute the Moran's coefficient for **all** your numeric variables.\n",
    "    "
   ]
  },
  {
   "cell_type": "markdown",
   "id": "2e6f6b50-4933-42df-8669-4ca0a2553a9e",
   "metadata": {},
   "source": [
    "### 2. Make a scatter plot for each variable."
   ]
  },
  {
   "cell_type": "markdown",
   "id": "772c6f48-6bc8-4054-8cd8-c1bf893131ab",
   "metadata": {},
   "source": [
    "## Exercise 9"
   ]
  },
  {
   "cell_type": "markdown",
   "id": "80d50aad-2927-46b7-8752-2f1ac180b233",
   "metadata": {},
   "source": [
    "### 1. Compute the Local Moran for the variables in your data that have significant spatial correlation.\n",
    "    "
   ]
  },
  {
   "cell_type": "markdown",
   "id": "7e5fe9c9-b6b8-4bf4-8ec8-7799a72914a1",
   "metadata": {},
   "source": [
    "### 2. Create a new column for each of those variables, with a label ('0 no_sig', '1 hotSpot', '2 coldOutlier', '3 coldSpot', '4 hotOutlier')."
   ]
  },
  {
   "cell_type": "markdown",
   "id": "9c475b63-170b-4e77-afb6-3eb9f723a995",
   "metadata": {},
   "source": [
    "### 3. Prepare a map for each of the variables analyzed, showing the spots and outliers."
   ]
  },
  {
   "cell_type": "code",
   "execution_count": null,
   "id": "2835ee3a-bc16-4e31-9762-1779879a078e",
   "metadata": {},
   "outputs": [],
   "source": []
  }
 ],
 "metadata": {
  "kernelspec": {
   "display_name": "Python 3 (ipykernel)",
   "language": "python",
   "name": "python3"
  },
  "language_info": {
   "codemirror_mode": {
    "name": "ipython",
    "version": 3
   },
   "file_extension": ".py",
   "mimetype": "text/x-python",
   "name": "python",
   "nbconvert_exporter": "python",
   "pygments_lexer": "ipython3",
   "version": "3.11.4"
  }
 },
 "nbformat": 4,
 "nbformat_minor": 5
}
