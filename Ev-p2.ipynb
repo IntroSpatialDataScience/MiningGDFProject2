{
 "cells": [
  {
   "cell_type": "markdown",
   "id": "b3da3699-6c37-4a74-94fc-2649a06db116",
   "metadata": {},
   "source": [
    "## Exercise 5"
   ]
  },
  {
   "cell_type": "code",
   "execution_count": 239,
   "id": "a0d129a1-19bf-44c0-92bf-1eb4514ef72e",
   "metadata": {
    "tags": []
   },
   "outputs": [],
   "source": [
    "import os\n",
    "import geopandas as gpd\n",
    "from  fiona import listlayers\n",
    "import matplotlib.pyplot as plt\n",
    "import pandas as pd "
   ]
  },
  {
   "cell_type": "markdown",
   "id": "f787d483-b442-4a50-b717-0758d9d12b22",
   "metadata": {},
   "source": [
    "    \n",
    "### 1. Get a polygons map of the lowest administrative unit possible."
   ]
  },
  {
   "cell_type": "code",
   "execution_count": 240,
   "id": "4e0b6ace-a64e-44f7-9943-c4644f72ee92",
   "metadata": {
    "tags": []
   },
   "outputs": [],
   "source": [
    "peruMaps = \"https://github.com/IntroSpatialDataScience/MiningGDFProject2/raw/main/maps/PeMaps.gpkg\"\n",
    "DistExcel = \"https://github.com/IntroSpatialDataScience/MiningGDFProject2/raw/main/data/dataPeru_indicadores.xlsx\""
   ]
  },
  {
   "cell_type": "code",
   "execution_count": 241,
   "id": "c513bc0c-33ef-423d-b804-576b1f36f023",
   "metadata": {
    "tags": []
   },
   "outputs": [
    {
     "data": {
      "text/plain": [
       "['country', 'dep', 'mun', 'dist']"
      ]
     },
     "execution_count": 241,
     "metadata": {},
     "output_type": "execute_result"
    }
   ],
   "source": [
    "listlayers(peruMaps)"
   ]
  },
  {
   "cell_type": "code",
   "execution_count": 242,
   "id": "3d5d1778-df3c-4d40-bac3-cb36edb28e74",
   "metadata": {
    "tags": []
   },
   "outputs": [],
   "source": [
    "peru = gpd.read_file(peruMaps,layer='country')\n",
    "disMap = gpd.read_file(peruMaps,layer=\"dist\")"
   ]
  },
  {
   "cell_type": "code",
   "execution_count": 243,
   "id": "c7047785-c847-433a-915a-af225d72fc5f",
   "metadata": {
    "tags": []
   },
   "outputs": [
    {
     "data": {
      "text/html": [
       "<div>\n",
       "<style scoped>\n",
       "    .dataframe tbody tr th:only-of-type {\n",
       "        vertical-align: middle;\n",
       "    }\n",
       "\n",
       "    .dataframe tbody tr th {\n",
       "        vertical-align: top;\n",
       "    }\n",
       "\n",
       "    .dataframe thead th {\n",
       "        text-align: right;\n",
       "    }\n",
       "</style>\n",
       "<table border=\"1\" class=\"dataframe\">\n",
       "  <thead>\n",
       "    <tr style=\"text-align: right;\">\n",
       "      <th></th>\n",
       "      <th>Distrito</th>\n",
       "      <th>Provincia</th>\n",
       "      <th>Departamento</th>\n",
       "      <th>geometry</th>\n",
       "    </tr>\n",
       "  </thead>\n",
       "  <tbody>\n",
       "    <tr>\n",
       "      <th>0</th>\n",
       "      <td>Abancay</td>\n",
       "      <td>Abancay</td>\n",
       "      <td>Apurimac</td>\n",
       "      <td>POLYGON ((-72.93158 -13.55616, -72.93140 -13.5...</td>\n",
       "    </tr>\n",
       "    <tr>\n",
       "      <th>1</th>\n",
       "      <td>Abelardo Pardo Lezameta</td>\n",
       "      <td>Bolognesi</td>\n",
       "      <td>Ancash</td>\n",
       "      <td>POLYGON ((-77.14740 -10.29675, -77.14643 -10.2...</td>\n",
       "    </tr>\n",
       "    <tr>\n",
       "      <th>2</th>\n",
       "      <td>Acari</td>\n",
       "      <td>Caraveli</td>\n",
       "      <td>Arequipa</td>\n",
       "      <td>POLYGON ((-74.61542 -15.13728, -74.61174 -15.1...</td>\n",
       "    </tr>\n",
       "  </tbody>\n",
       "</table>\n",
       "</div>"
      ],
      "text/plain": [
       "                  Distrito  Provincia Departamento  \\\n",
       "0                  Abancay    Abancay     Apurimac   \n",
       "1  Abelardo Pardo Lezameta  Bolognesi       Ancash   \n",
       "2                    Acari   Caraveli     Arequipa   \n",
       "\n",
       "                                            geometry  \n",
       "0  POLYGON ((-72.93158 -13.55616, -72.93140 -13.5...  \n",
       "1  POLYGON ((-77.14740 -10.29675, -77.14643 -10.2...  \n",
       "2  POLYGON ((-74.61542 -15.13728, -74.61174 -15.1...  "
      ]
     },
     "execution_count": 243,
     "metadata": {},
     "output_type": "execute_result"
    }
   ],
   "source": [
    "disMap.rename(columns={'ADM3_ES':'Distrito','ADM2_ES':'Provincia','ADM1_ES':'Departamento'},inplace=True)\n",
    "disMap = disMap[['Distrito','Provincia','Departamento','geometry']]\n",
    "disMap.head(3)"
   ]
  },
  {
   "cell_type": "code",
   "execution_count": 244,
   "id": "e700be8f-b9ce-41ef-8936-bbf572c2cd96",
   "metadata": {
    "tags": []
   },
   "outputs": [
    {
     "data": {
      "text/plain": [
       "<Geographic 2D CRS: EPSG:4326>\n",
       "Name: WGS 84\n",
       "Axis Info [ellipsoidal]:\n",
       "- Lat[north]: Geodetic latitude (degree)\n",
       "- Lon[east]: Geodetic longitude (degree)\n",
       "Area of Use:\n",
       "- name: World.\n",
       "- bounds: (-180.0, -90.0, 180.0, 90.0)\n",
       "Datum: World Geodetic System 1984 ensemble\n",
       "- Ellipsoid: WGS 84\n",
       "- Prime Meridian: Greenwich"
      ]
     },
     "execution_count": 244,
     "metadata": {},
     "output_type": "execute_result"
    }
   ],
   "source": [
    "disMap.crs"
   ]
  },
  {
   "cell_type": "code",
   "execution_count": 245,
   "id": "817819a0-cbb2-4a38-95ef-8bcd75d52370",
   "metadata": {
    "tags": []
   },
   "outputs": [
    {
     "data": {
      "text/plain": [
       "<Projected CRS: EPSG:24891>\n",
       "Name: PSAD56 / Peru west zone\n",
       "Axis Info [cartesian]:\n",
       "- X[east]: Easting (metre)\n",
       "- Y[north]: Northing (metre)\n",
       "Area of Use:\n",
       "- name: Peru - west of 79°W.\n",
       "- bounds: (-81.41, -8.32, -79.0, -3.38)\n",
       "Coordinate Operation:\n",
       "- name: Peru west zone\n",
       "- method: Transverse Mercator\n",
       "Datum: Provisional South American Datum 1956\n",
       "- Ellipsoid: International 1924\n",
       "- Prime Meridian: Greenwich"
      ]
     },
     "execution_count": 245,
     "metadata": {},
     "output_type": "execute_result"
    }
   ],
   "source": [
    "disMap=disMap.to_crs(\"24891\")\n",
    "disMap.crs"
   ]
  },
  {
   "cell_type": "code",
   "execution_count": 246,
   "id": "31ca726b-1be9-4e54-9218-fd0f1129b6ff",
   "metadata": {
    "tags": []
   },
   "outputs": [
    {
     "data": {
      "image/png": "[encoded data removed]",
      "text/plain": [
       "<Figure size 640x480 with 1 Axes>"
      ]
     },
     "metadata": {},
     "output_type": "display_data"
    }
   ],
   "source": [
    "base = peru.plot(color='beige')\n",
    "disMap.plot(ax=base, facecolor='beige', edgecolor='darkgoldenrod',linewidth=0.2)\n",
    "plt.show()"
   ]
  },
  {
   "cell_type": "markdown",
   "id": "0e51c357-db28-4e26-b88a-e5f8a9032e87",
   "metadata": {},
   "source": [
    "    \n",
    "### 2. Get a table of variables for those units. At least 3 numerical variables."
   ]
  },
  {
   "cell_type": "code",
   "execution_count": 247,
   "id": "0a258f49-7f10-4996-b70a-c35b82dfcd37",
   "metadata": {
    "tags": []
   },
   "outputs": [
    {
     "data": {
      "text/html": [
       "<div>\n",
       "<style scoped>\n",
       "    .dataframe tbody tr th:only-of-type {\n",
       "        vertical-align: middle;\n",
       "    }\n",
       "\n",
       "    .dataframe tbody tr th {\n",
       "        vertical-align: top;\n",
       "    }\n",
       "\n",
       "    .dataframe thead th {\n",
       "        text-align: right;\n",
       "    }\n",
       "</style>\n",
       "<table border=\"1\" class=\"dataframe\">\n",
       "  <thead>\n",
       "    <tr style=\"text-align: right;\">\n",
       "      <th></th>\n",
       "      <th>Ubigeo</th>\n",
       "      <th>Departamento</th>\n",
       "      <th>Provincia</th>\n",
       "      <th>Distrito</th>\n",
       "      <th>Poblacion</th>\n",
       "      <th>Superficie</th>\n",
       "      <th>IDH2019</th>\n",
       "      <th>Educ_sec_comp2019_pct</th>\n",
       "      <th>NBI2017_pct</th>\n",
       "      <th>Viv_sin_serv_hig2017_pct</th>\n",
       "    </tr>\n",
       "  </thead>\n",
       "  <tbody>\n",
       "    <tr>\n",
       "      <th>0</th>\n",
       "      <td>010202</td>\n",
       "      <td>Amazonas</td>\n",
       "      <td>Bagua</td>\n",
       "      <td>ARAMANGO</td>\n",
       "      <td>10940</td>\n",
       "      <td>809.07</td>\n",
       "      <td>0.361182</td>\n",
       "      <td>37.545885</td>\n",
       "      <td>62.9</td>\n",
       "      <td>9.1</td>\n",
       "    </tr>\n",
       "    <tr>\n",
       "      <th>1</th>\n",
       "      <td>010201</td>\n",
       "      <td>Amazonas</td>\n",
       "      <td>Bagua</td>\n",
       "      <td>BAGUA</td>\n",
       "      <td>26091</td>\n",
       "      <td>150.99</td>\n",
       "      <td>0.584063</td>\n",
       "      <td>70.795501</td>\n",
       "      <td>25.4</td>\n",
       "      <td>0.7</td>\n",
       "    </tr>\n",
       "    <tr>\n",
       "      <th>2</th>\n",
       "      <td>010203</td>\n",
       "      <td>Amazonas</td>\n",
       "      <td>Bagua</td>\n",
       "      <td>COPALLIN</td>\n",
       "      <td>6319</td>\n",
       "      <td>99.05</td>\n",
       "      <td>0.467245</td>\n",
       "      <td>52.571361</td>\n",
       "      <td>45.4</td>\n",
       "      <td>2.1</td>\n",
       "    </tr>\n",
       "    <tr>\n",
       "      <th>3</th>\n",
       "      <td>010204</td>\n",
       "      <td>Amazonas</td>\n",
       "      <td>Bagua</td>\n",
       "      <td>EL PARCO</td>\n",
       "      <td>1492</td>\n",
       "      <td>18.48</td>\n",
       "      <td>0.489049</td>\n",
       "      <td>70.215409</td>\n",
       "      <td>59.9</td>\n",
       "      <td>1.5</td>\n",
       "    </tr>\n",
       "    <tr>\n",
       "      <th>4</th>\n",
       "      <td>010205</td>\n",
       "      <td>Amazonas</td>\n",
       "      <td>Bagua</td>\n",
       "      <td>IMAZA</td>\n",
       "      <td>24323</td>\n",
       "      <td>4430.84</td>\n",
       "      <td>0.298089</td>\n",
       "      <td>31.295719</td>\n",
       "      <td>88.4</td>\n",
       "      <td>11.7</td>\n",
       "    </tr>\n",
       "  </tbody>\n",
       "</table>\n",
       "</div>"
      ],
      "text/plain": [
       "   Ubigeo Departamento Provincia  Distrito  Poblacion  Superficie   IDH2019  \\\n",
       "0  010202     Amazonas     Bagua  ARAMANGO      10940      809.07  0.361182   \n",
       "1  010201     Amazonas     Bagua     BAGUA      26091      150.99  0.584063   \n",
       "2  010203     Amazonas     Bagua  COPALLIN       6319       99.05  0.467245   \n",
       "3  010204     Amazonas     Bagua  EL PARCO       1492       18.48  0.489049   \n",
       "4  010205     Amazonas     Bagua     IMAZA      24323     4430.84  0.298089   \n",
       "\n",
       "   Educ_sec_comp2019_pct  NBI2017_pct  Viv_sin_serv_hig2017_pct  \n",
       "0              37.545885         62.9                       9.1  \n",
       "1              70.795501         25.4                       0.7  \n",
       "2              52.571361         45.4                       2.1  \n",
       "3              70.215409         59.9                       1.5  \n",
       "4              31.295719         88.4                      11.7  "
      ]
     },
     "execution_count": 247,
     "metadata": {},
     "output_type": "execute_result"
    }
   ],
   "source": [
    "datadis=pd.read_excel(DistExcel,\n",
    "                     dtype={'Ubigeo': object})\n",
    "datadis.head(5)"
   ]
  },
  {
   "cell_type": "code",
   "execution_count": 248,
   "id": "d00fcce5-7a3e-4be1-abb8-4c61ff4e988b",
   "metadata": {
    "tags": []
   },
   "outputs": [
    {
     "data": {
      "text/html": [
       "<div>\n",
       "<style scoped>\n",
       "    .dataframe tbody tr th:only-of-type {\n",
       "        vertical-align: middle;\n",
       "    }\n",
       "\n",
       "    .dataframe tbody tr th {\n",
       "        vertical-align: top;\n",
       "    }\n",
       "\n",
       "    .dataframe thead th {\n",
       "        text-align: right;\n",
       "    }\n",
       "</style>\n",
       "<table border=\"1\" class=\"dataframe\">\n",
       "  <thead>\n",
       "    <tr style=\"text-align: right;\">\n",
       "      <th></th>\n",
       "      <th>Distrito</th>\n",
       "      <th>Provincia</th>\n",
       "      <th>Departamento</th>\n",
       "      <th>geometry</th>\n",
       "    </tr>\n",
       "  </thead>\n",
       "  <tbody>\n",
       "    <tr>\n",
       "      <th>0</th>\n",
       "      <td>Abancay</td>\n",
       "      <td>Abancay</td>\n",
       "      <td>Apurimac</td>\n",
       "      <td>POLYGON ((1043456.374 578809.517, 1043472.076 ...</td>\n",
       "    </tr>\n",
       "    <tr>\n",
       "      <th>1</th>\n",
       "      <td>Abelardo Pardo Lezameta</td>\n",
       "      <td>Bolognesi</td>\n",
       "      <td>Ancash</td>\n",
       "      <td>POLYGON ((589625.329 950159.105, 589731.729 95...</td>\n",
       "    </tr>\n",
       "    <tr>\n",
       "      <th>2</th>\n",
       "      <td>Acari</td>\n",
       "      <td>Caraveli</td>\n",
       "      <td>Arequipa</td>\n",
       "      <td>POLYGON ((855604.724 408148.590, 855990.585 40...</td>\n",
       "    </tr>\n",
       "    <tr>\n",
       "      <th>3</th>\n",
       "      <td>Acas</td>\n",
       "      <td>Ocros</td>\n",
       "      <td>Ancash</td>\n",
       "      <td>POLYGON ((576776.387 934936.983, 576726.618 93...</td>\n",
       "    </tr>\n",
       "    <tr>\n",
       "      <th>4</th>\n",
       "      <td>Accha</td>\n",
       "      <td>Paruro</td>\n",
       "      <td>Cusco</td>\n",
       "      <td>POLYGON ((1164542.373 533562.907, 1164551.644 ...</td>\n",
       "    </tr>\n",
       "  </tbody>\n",
       "</table>\n",
       "</div>"
      ],
      "text/plain": [
       "                  Distrito  Provincia Departamento  \\\n",
       "0                  Abancay    Abancay     Apurimac   \n",
       "1  Abelardo Pardo Lezameta  Bolognesi       Ancash   \n",
       "2                    Acari   Caraveli     Arequipa   \n",
       "3                     Acas      Ocros       Ancash   \n",
       "4                    Accha     Paruro        Cusco   \n",
       "\n",
       "                                            geometry  \n",
       "0  POLYGON ((1043456.374 578809.517, 1043472.076 ...  \n",
       "1  POLYGON ((589625.329 950159.105, 589731.729 95...  \n",
       "2  POLYGON ((855604.724 408148.590, 855990.585 40...  \n",
       "3  POLYGON ((576776.387 934936.983, 576726.618 93...  \n",
       "4  POLYGON ((1164542.373 533562.907, 1164551.644 ...  "
      ]
     },
     "execution_count": 248,
     "metadata": {},
     "output_type": "execute_result"
    }
   ],
   "source": [
    "disMap.head()"
   ]
  },
  {
   "cell_type": "markdown",
   "id": "764c5177-4ce8-4f13-92f5-aad2a7e838f1",
   "metadata": {},
   "source": [
    "### 3. Preprocess both tables and get them ready for merging."
   ]
  },
  {
   "cell_type": "code",
   "execution_count": 249,
   "id": "1b2cdfcf-00d8-405c-9a19-4dd55d1e4182",
   "metadata": {
    "tags": []
   },
   "outputs": [
    {
     "data": {
      "text/html": [
       "<div>\n",
       "<style scoped>\n",
       "    .dataframe tbody tr th:only-of-type {\n",
       "        vertical-align: middle;\n",
       "    }\n",
       "\n",
       "    .dataframe tbody tr th {\n",
       "        vertical-align: top;\n",
       "    }\n",
       "\n",
       "    .dataframe thead th {\n",
       "        text-align: right;\n",
       "    }\n",
       "</style>\n",
       "<table border=\"1\" class=\"dataframe\">\n",
       "  <thead>\n",
       "    <tr style=\"text-align: right;\">\n",
       "      <th></th>\n",
       "      <th>Distrito</th>\n",
       "      <th>Provincia</th>\n",
       "      <th>Departamento</th>\n",
       "      <th>Poblacion</th>\n",
       "      <th>secundariaCompleta_pct</th>\n",
       "      <th>sinServHigiene_pct</th>\n",
       "    </tr>\n",
       "  </thead>\n",
       "  <tbody>\n",
       "    <tr>\n",
       "      <th>0</th>\n",
       "      <td>Aramango</td>\n",
       "      <td>Bagua</td>\n",
       "      <td>Amazonas</td>\n",
       "      <td>10940</td>\n",
       "      <td>37.545885</td>\n",
       "      <td>9.1</td>\n",
       "    </tr>\n",
       "    <tr>\n",
       "      <th>1</th>\n",
       "      <td>Bagua</td>\n",
       "      <td>Bagua</td>\n",
       "      <td>Amazonas</td>\n",
       "      <td>26091</td>\n",
       "      <td>70.795501</td>\n",
       "      <td>0.7</td>\n",
       "    </tr>\n",
       "    <tr>\n",
       "      <th>2</th>\n",
       "      <td>Copallin</td>\n",
       "      <td>Bagua</td>\n",
       "      <td>Amazonas</td>\n",
       "      <td>6319</td>\n",
       "      <td>52.571361</td>\n",
       "      <td>2.1</td>\n",
       "    </tr>\n",
       "    <tr>\n",
       "      <th>3</th>\n",
       "      <td>El Parco</td>\n",
       "      <td>Bagua</td>\n",
       "      <td>Amazonas</td>\n",
       "      <td>1492</td>\n",
       "      <td>70.215409</td>\n",
       "      <td>1.5</td>\n",
       "    </tr>\n",
       "    <tr>\n",
       "      <th>4</th>\n",
       "      <td>Imaza</td>\n",
       "      <td>Bagua</td>\n",
       "      <td>Amazonas</td>\n",
       "      <td>24323</td>\n",
       "      <td>31.295719</td>\n",
       "      <td>11.7</td>\n",
       "    </tr>\n",
       "  </tbody>\n",
       "</table>\n",
       "</div>"
      ],
      "text/plain": [
       "   Distrito Provincia Departamento  Poblacion  secundariaCompleta_pct  \\\n",
       "0  Aramango     Bagua     Amazonas      10940               37.545885   \n",
       "1     Bagua     Bagua     Amazonas      26091               70.795501   \n",
       "2  Copallin     Bagua     Amazonas       6319               52.571361   \n",
       "3  El Parco     Bagua     Amazonas       1492               70.215409   \n",
       "4     Imaza     Bagua     Amazonas      24323               31.295719   \n",
       "\n",
       "   sinServHigiene_pct  \n",
       "0                 9.1  \n",
       "1                 0.7  \n",
       "2                 2.1  \n",
       "3                 1.5  \n",
       "4                11.7  "
      ]
     },
     "execution_count": 249,
     "metadata": {},
     "output_type": "execute_result"
    }
   ],
   "source": [
    "datadis.rename(columns={'Educ_sec_comp2019_pct':'secundariaCompleta_pct','Viv_sin_serv_hig2017_pct':'sinServHigiene_pct'},inplace=True)\n",
    "datadis = datadis[['Distrito','Provincia','Departamento','Poblacion','secundariaCompleta_pct','sinServHigiene_pct']]\n",
    "datadis.Distrito = datadis.Distrito.str.title()\n",
    "datadis.head()"
   ]
  },
  {
   "cell_type": "markdown",
   "id": "165d7394-8d09-4c19-80df-e8605a5f6825",
   "metadata": {},
   "source": [
    "### 4. Do the merging, making the changes needed so that you keep the most columns."
   ]
  },
  {
   "cell_type": "code",
   "execution_count": 250,
   "id": "f46e25fe-7441-45a3-8687-36b93cce4880",
   "metadata": {},
   "outputs": [
    {
     "data": {
      "text/html": [
       "<div>\n",
       "<style scoped>\n",
       "    .dataframe tbody tr th:only-of-type {\n",
       "        vertical-align: middle;\n",
       "    }\n",
       "\n",
       "    .dataframe tbody tr th {\n",
       "        vertical-align: top;\n",
       "    }\n",
       "\n",
       "    .dataframe thead th {\n",
       "        text-align: right;\n",
       "    }\n",
       "</style>\n",
       "<table border=\"1\" class=\"dataframe\">\n",
       "  <thead>\n",
       "    <tr style=\"text-align: right;\">\n",
       "      <th></th>\n",
       "      <th>Distrito</th>\n",
       "      <th>Provincia_x</th>\n",
       "      <th>Departamento_x</th>\n",
       "      <th>geometry</th>\n",
       "      <th>Provincia_y</th>\n",
       "      <th>Departamento_y</th>\n",
       "      <th>Poblacion</th>\n",
       "      <th>secundariaCompleta_pct</th>\n",
       "      <th>sinServHigiene_pct</th>\n",
       "    </tr>\n",
       "  </thead>\n",
       "  <tbody>\n",
       "    <tr>\n",
       "      <th>0</th>\n",
       "      <td>Abancay</td>\n",
       "      <td>Abancay</td>\n",
       "      <td>Apurimac</td>\n",
       "      <td>POLYGON ((1043456.374 578809.517, 1043472.076 ...</td>\n",
       "      <td>Abancay</td>\n",
       "      <td>Apurimac</td>\n",
       "      <td>56871</td>\n",
       "      <td>78.865450</td>\n",
       "      <td>2.9</td>\n",
       "    </tr>\n",
       "    <tr>\n",
       "      <th>1</th>\n",
       "      <td>Abelardo Pardo Lezameta</td>\n",
       "      <td>Bolognesi</td>\n",
       "      <td>Ancash</td>\n",
       "      <td>POLYGON ((589625.329 950159.105, 589731.729 95...</td>\n",
       "      <td>Bolognesi</td>\n",
       "      <td>Ancash</td>\n",
       "      <td>1263</td>\n",
       "      <td>50.434603</td>\n",
       "      <td>25.4</td>\n",
       "    </tr>\n",
       "    <tr>\n",
       "      <th>2</th>\n",
       "      <td>Acari</td>\n",
       "      <td>Caraveli</td>\n",
       "      <td>Arequipa</td>\n",
       "      <td>POLYGON ((855604.724 408148.590, 855990.585 40...</td>\n",
       "      <td>Caraveli</td>\n",
       "      <td>Arequipa</td>\n",
       "      <td>3010</td>\n",
       "      <td>56.273614</td>\n",
       "      <td>8.8</td>\n",
       "    </tr>\n",
       "    <tr>\n",
       "      <th>3</th>\n",
       "      <td>Acas</td>\n",
       "      <td>Ocros</td>\n",
       "      <td>Ancash</td>\n",
       "      <td>POLYGON ((576776.387 934936.983, 576726.618 93...</td>\n",
       "      <td>Ocros</td>\n",
       "      <td>Ancash</td>\n",
       "      <td>1057</td>\n",
       "      <td>72.527156</td>\n",
       "      <td>67.6</td>\n",
       "    </tr>\n",
       "    <tr>\n",
       "      <th>4</th>\n",
       "      <td>Accha</td>\n",
       "      <td>Paruro</td>\n",
       "      <td>Cusco</td>\n",
       "      <td>POLYGON ((1164542.373 533562.907, 1164551.644 ...</td>\n",
       "      <td>Paruro</td>\n",
       "      <td>Cusco</td>\n",
       "      <td>3839</td>\n",
       "      <td>64.586647</td>\n",
       "      <td>11.1</td>\n",
       "    </tr>\n",
       "  </tbody>\n",
       "</table>\n",
       "</div>"
      ],
      "text/plain": [
       "                  Distrito Provincia_x Departamento_x  \\\n",
       "0                  Abancay     Abancay       Apurimac   \n",
       "1  Abelardo Pardo Lezameta   Bolognesi         Ancash   \n",
       "2                    Acari    Caraveli       Arequipa   \n",
       "3                     Acas       Ocros         Ancash   \n",
       "4                    Accha      Paruro          Cusco   \n",
       "\n",
       "                                            geometry Provincia_y  \\\n",
       "0  POLYGON ((1043456.374 578809.517, 1043472.076 ...     Abancay   \n",
       "1  POLYGON ((589625.329 950159.105, 589731.729 95...   Bolognesi   \n",
       "2  POLYGON ((855604.724 408148.590, 855990.585 40...    Caraveli   \n",
       "3  POLYGON ((576776.387 934936.983, 576726.618 93...       Ocros   \n",
       "4  POLYGON ((1164542.373 533562.907, 1164551.644 ...      Paruro   \n",
       "\n",
       "  Departamento_y  Poblacion  secundariaCompleta_pct  sinServHigiene_pct  \n",
       "0       Apurimac      56871               78.865450                 2.9  \n",
       "1         Ancash       1263               50.434603                25.4  \n",
       "2       Arequipa       3010               56.273614                 8.8  \n",
       "3         Ancash       1057               72.527156                67.6  \n",
       "4          Cusco       3839               64.586647                11.1  "
      ]
     },
     "execution_count": 250,
     "metadata": {},
     "output_type": "execute_result"
    }
   ],
   "source": [
    "disMap.merge(datadis,how='inner',left_on='Distrito', right_on='Distrito').head()"
   ]
  },
  {
   "cell_type": "code",
   "execution_count": 251,
   "id": "007d2c3f-8095-4b65-a2ea-e2e8c8d5bd71",
   "metadata": {
    "tags": []
   },
   "outputs": [
    {
     "data": {
      "text/plain": [
       "(1873, 4)"
      ]
     },
     "execution_count": 251,
     "metadata": {},
     "output_type": "execute_result"
    }
   ],
   "source": [
    "disMap.shape"
   ]
  },
  {
   "cell_type": "code",
   "execution_count": 252,
   "id": "2b0c9b57-8f7c-4799-9b29-e8fd2ca7c481",
   "metadata": {
    "tags": []
   },
   "outputs": [
    {
     "data": {
      "text/plain": [
       "(1874, 6)"
      ]
     },
     "execution_count": 252,
     "metadata": {},
     "output_type": "execute_result"
    }
   ],
   "source": [
    "datadis.shape"
   ]
  },
  {
   "cell_type": "code",
   "execution_count": 253,
   "id": "e0b6247d-29d0-4313-a91d-3a338658b5fc",
   "metadata": {
    "tags": []
   },
   "outputs": [
    {
     "data": {
      "text/plain": [
       "(2222, 9)"
      ]
     },
     "execution_count": 253,
     "metadata": {},
     "output_type": "execute_result"
    }
   ],
   "source": [
    "disMap.merge(datadis,how='inner',left_on='Distrito', right_on='Distrito').shape"
   ]
  },
  {
   "cell_type": "code",
   "execution_count": 254,
   "id": "2bcbeab8-4e99-43ca-b8bd-52e9657c8734",
   "metadata": {
    "tags": []
   },
   "outputs": [],
   "source": [
    "# all capitals, no empty spaces before or after.\n",
    "\n",
    "titleColumns=lambda x: x.str.title().str.strip()\n",
    "datadis[['Distrito','Provincia']]=datadis[['Distrito','Provincia']].apply(titleColumns)\n",
    "disMap[['Distrito','Provincia']]=disMap[['Distrito','Provincia']].apply(titleColumns)"
   ]
  },
  {
   "cell_type": "code",
   "execution_count": 255,
   "id": "8e834496-303c-4ab8-a0af-393dc3be019b",
   "metadata": {
    "tags": []
   },
   "outputs": [
    {
     "data": {
      "text/plain": [
       "(2365, 9)"
      ]
     },
     "execution_count": 255,
     "metadata": {},
     "output_type": "execute_result"
    }
   ],
   "source": [
    "disMap.merge(datadis, how='inner',left_on='Distrito', right_on='Distrito').shape"
   ]
  },
  {
   "cell_type": "code",
   "execution_count": 256,
   "id": "7f420718-b456-4d93-bc9f-a98bff0f0e03",
   "metadata": {
    "tags": []
   },
   "outputs": [
    {
     "data": {
      "text/html": [
       "<div>\n",
       "<style scoped>\n",
       "    .dataframe tbody tr th:only-of-type {\n",
       "        vertical-align: middle;\n",
       "    }\n",
       "\n",
       "    .dataframe tbody tr th {\n",
       "        vertical-align: top;\n",
       "    }\n",
       "\n",
       "    .dataframe thead th {\n",
       "        text-align: right;\n",
       "    }\n",
       "</style>\n",
       "<table border=\"1\" class=\"dataframe\">\n",
       "  <thead>\n",
       "    <tr style=\"text-align: right;\">\n",
       "      <th></th>\n",
       "      <th>Distrito</th>\n",
       "      <th>Provincia_x</th>\n",
       "      <th>Departamento_x</th>\n",
       "      <th>geometry</th>\n",
       "      <th>Provincia_y</th>\n",
       "      <th>Departamento_y</th>\n",
       "      <th>Poblacion</th>\n",
       "      <th>secundariaCompleta_pct</th>\n",
       "      <th>sinServHigiene_pct</th>\n",
       "    </tr>\n",
       "  </thead>\n",
       "  <tbody>\n",
       "    <tr>\n",
       "      <th>0</th>\n",
       "      <td>Abancay</td>\n",
       "      <td>Abancay</td>\n",
       "      <td>Apurimac</td>\n",
       "      <td>POLYGON ((1043456.374 578809.517, 1043472.076 ...</td>\n",
       "      <td>Abancay</td>\n",
       "      <td>Apurimac</td>\n",
       "      <td>56871</td>\n",
       "      <td>78.865450</td>\n",
       "      <td>2.9</td>\n",
       "    </tr>\n",
       "    <tr>\n",
       "      <th>1</th>\n",
       "      <td>Abelardo Pardo Lezameta</td>\n",
       "      <td>Bolognesi</td>\n",
       "      <td>Ancash</td>\n",
       "      <td>POLYGON ((589625.329 950159.105, 589731.729 95...</td>\n",
       "      <td>Bolognesi</td>\n",
       "      <td>Ancash</td>\n",
       "      <td>1263</td>\n",
       "      <td>50.434603</td>\n",
       "      <td>25.4</td>\n",
       "    </tr>\n",
       "    <tr>\n",
       "      <th>2</th>\n",
       "      <td>Acari</td>\n",
       "      <td>Caraveli</td>\n",
       "      <td>Arequipa</td>\n",
       "      <td>POLYGON ((855604.724 408148.590, 855990.585 40...</td>\n",
       "      <td>Caraveli</td>\n",
       "      <td>Arequipa</td>\n",
       "      <td>3010</td>\n",
       "      <td>56.273614</td>\n",
       "      <td>8.8</td>\n",
       "    </tr>\n",
       "    <tr>\n",
       "      <th>3</th>\n",
       "      <td>Acas</td>\n",
       "      <td>Ocros</td>\n",
       "      <td>Ancash</td>\n",
       "      <td>POLYGON ((576776.387 934936.983, 576726.618 93...</td>\n",
       "      <td>Ocros</td>\n",
       "      <td>Ancash</td>\n",
       "      <td>1057</td>\n",
       "      <td>72.527156</td>\n",
       "      <td>67.6</td>\n",
       "    </tr>\n",
       "    <tr>\n",
       "      <th>4</th>\n",
       "      <td>Accha</td>\n",
       "      <td>Paruro</td>\n",
       "      <td>Cusco</td>\n",
       "      <td>POLYGON ((1164542.373 533562.907, 1164551.644 ...</td>\n",
       "      <td>Paruro</td>\n",
       "      <td>Cusco</td>\n",
       "      <td>3839</td>\n",
       "      <td>64.586647</td>\n",
       "      <td>11.1</td>\n",
       "    </tr>\n",
       "  </tbody>\n",
       "</table>\n",
       "</div>"
      ],
      "text/plain": [
       "                  Distrito Provincia_x Departamento_x  \\\n",
       "0                  Abancay     Abancay       Apurimac   \n",
       "1  Abelardo Pardo Lezameta   Bolognesi         Ancash   \n",
       "2                    Acari    Caraveli       Arequipa   \n",
       "3                     Acas       Ocros         Ancash   \n",
       "4                    Accha      Paruro          Cusco   \n",
       "\n",
       "                                            geometry Provincia_y  \\\n",
       "0  POLYGON ((1043456.374 578809.517, 1043472.076 ...     Abancay   \n",
       "1  POLYGON ((589625.329 950159.105, 589731.729 95...   Bolognesi   \n",
       "2  POLYGON ((855604.724 408148.590, 855990.585 40...    Caraveli   \n",
       "3  POLYGON ((576776.387 934936.983, 576726.618 93...       Ocros   \n",
       "4  POLYGON ((1164542.373 533562.907, 1164551.644 ...      Paruro   \n",
       "\n",
       "  Departamento_y  Poblacion  secundariaCompleta_pct  sinServHigiene_pct  \n",
       "0       Apurimac      56871               78.865450                 2.9  \n",
       "1         Ancash       1263               50.434603                25.4  \n",
       "2       Arequipa       3010               56.273614                 8.8  \n",
       "3         Ancash       1057               72.527156                67.6  \n",
       "4          Cusco       3839               64.586647                11.1  "
      ]
     },
     "execution_count": 256,
     "metadata": {},
     "output_type": "execute_result"
    }
   ],
   "source": [
    "disMap.merge(datadis, how='inner',left_on='Distrito', right_on='Distrito').head()"
   ]
  },
  {
   "cell_type": "code",
   "execution_count": 257,
   "id": "1f5d613f-44d2-4a29-9883-f72d9f32b11f",
   "metadata": {
    "tags": []
   },
   "outputs": [
    {
     "data": {
      "text/plain": [
       "(154, 153)"
      ]
     },
     "execution_count": 257,
     "metadata": {},
     "output_type": "execute_result"
    }
   ],
   "source": [
    "datadis.Distrito.duplicated().sum(),disMap.Distrito.duplicated().sum()"
   ]
  },
  {
   "cell_type": "code",
   "execution_count": 258,
   "id": "0223a8e3-8a78-49b4-bd5f-3fa7f541448e",
   "metadata": {
    "tags": []
   },
   "outputs": [],
   "source": [
    "datadis['provDist']=[\"+\".join(pd) for pd in zip (datadis.Provincia,datadis.Distrito)]\n",
    "disMap['provDist']=[\"+\".join(pd) for pd in zip (disMap.Provincia,disMap.Distrito)]"
   ]
  },
  {
   "cell_type": "code",
   "execution_count": 259,
   "id": "32799400-0f5f-4ca3-ac0c-96c7c33261ff",
   "metadata": {
    "tags": []
   },
   "outputs": [],
   "source": [
    "datadis['provDist']=datadis.provDist.str.replace(\"\\-|\\_|\\s+\",\" \",regex=True)\n",
    "disMap['provDist']=disMap.provDist.str.replace(\"\\-|\\_|\\s+\",\" \",regex=True)"
   ]
  },
  {
   "cell_type": "code",
   "execution_count": 260,
   "id": "358621fd-2bbb-48c8-8eab-144d94aedef2",
   "metadata": {
    "tags": []
   },
   "outputs": [
    {
     "data": {
      "text/html": [
       "<div>\n",
       "<style scoped>\n",
       "    .dataframe tbody tr th:only-of-type {\n",
       "        vertical-align: middle;\n",
       "    }\n",
       "\n",
       "    .dataframe tbody tr th {\n",
       "        vertical-align: top;\n",
       "    }\n",
       "\n",
       "    .dataframe thead th {\n",
       "        text-align: right;\n",
       "    }\n",
       "</style>\n",
       "<table border=\"1\" class=\"dataframe\">\n",
       "  <thead>\n",
       "    <tr style=\"text-align: right;\">\n",
       "      <th></th>\n",
       "      <th>Distrito</th>\n",
       "      <th>Provincia</th>\n",
       "      <th>Departamento</th>\n",
       "      <th>geometry</th>\n",
       "      <th>provDist</th>\n",
       "    </tr>\n",
       "  </thead>\n",
       "  <tbody>\n",
       "    <tr>\n",
       "      <th>0</th>\n",
       "      <td>Abancay</td>\n",
       "      <td>Abancay</td>\n",
       "      <td>Apurimac</td>\n",
       "      <td>POLYGON ((1043456.374 578809.517, 1043472.076 ...</td>\n",
       "      <td>Abancay+Abancay</td>\n",
       "    </tr>\n",
       "    <tr>\n",
       "      <th>1</th>\n",
       "      <td>Abelardo Pardo Lezameta</td>\n",
       "      <td>Bolognesi</td>\n",
       "      <td>Ancash</td>\n",
       "      <td>POLYGON ((589625.329 950159.105, 589731.729 95...</td>\n",
       "      <td>Bolognesi+Abelardo Pardo Lezameta</td>\n",
       "    </tr>\n",
       "    <tr>\n",
       "      <th>2</th>\n",
       "      <td>Acari</td>\n",
       "      <td>Caraveli</td>\n",
       "      <td>Arequipa</td>\n",
       "      <td>POLYGON ((855604.724 408148.590, 855990.585 40...</td>\n",
       "      <td>Caraveli+Acari</td>\n",
       "    </tr>\n",
       "    <tr>\n",
       "      <th>3</th>\n",
       "      <td>Acas</td>\n",
       "      <td>Ocros</td>\n",
       "      <td>Ancash</td>\n",
       "      <td>POLYGON ((576776.387 934936.983, 576726.618 93...</td>\n",
       "      <td>Ocros+Acas</td>\n",
       "    </tr>\n",
       "    <tr>\n",
       "      <th>4</th>\n",
       "      <td>Accha</td>\n",
       "      <td>Paruro</td>\n",
       "      <td>Cusco</td>\n",
       "      <td>POLYGON ((1164542.373 533562.907, 1164551.644 ...</td>\n",
       "      <td>Paruro+Accha</td>\n",
       "    </tr>\n",
       "  </tbody>\n",
       "</table>\n",
       "</div>"
      ],
      "text/plain": [
       "                  Distrito  Provincia Departamento  \\\n",
       "0                  Abancay    Abancay     Apurimac   \n",
       "1  Abelardo Pardo Lezameta  Bolognesi       Ancash   \n",
       "2                    Acari   Caraveli     Arequipa   \n",
       "3                     Acas      Ocros       Ancash   \n",
       "4                    Accha     Paruro        Cusco   \n",
       "\n",
       "                                            geometry  \\\n",
       "0  POLYGON ((1043456.374 578809.517, 1043472.076 ...   \n",
       "1  POLYGON ((589625.329 950159.105, 589731.729 95...   \n",
       "2  POLYGON ((855604.724 408148.590, 855990.585 40...   \n",
       "3  POLYGON ((576776.387 934936.983, 576726.618 93...   \n",
       "4  POLYGON ((1164542.373 533562.907, 1164551.644 ...   \n",
       "\n",
       "                            provDist  \n",
       "0                    Abancay+Abancay  \n",
       "1  Bolognesi+Abelardo Pardo Lezameta  \n",
       "2                     Caraveli+Acari  \n",
       "3                         Ocros+Acas  \n",
       "4                       Paruro+Accha  "
      ]
     },
     "execution_count": 260,
     "metadata": {},
     "output_type": "execute_result"
    }
   ],
   "source": [
    "disMap.head()"
   ]
  },
  {
   "cell_type": "code",
   "execution_count": 261,
   "id": "e4fa98bf-e5d0-428d-ac62-07f6c6e6110f",
   "metadata": {
    "tags": []
   },
   "outputs": [],
   "source": [
    "nomatch_df=set(datadis.provDist)- set(disMap.provDist)\n",
    "nomatch_gdf=set(disMap.provDist)-set(datadis.provDist)"
   ]
  },
  {
   "cell_type": "code",
   "execution_count": 262,
   "id": "26233ea9-1e10-4fc3-9cc4-5a770b9f4500",
   "metadata": {
    "tags": []
   },
   "outputs": [
    {
     "data": {
      "text/plain": [
       "{'Andahuaylas+José María Arguedas',\n",
       " 'Aymaraes+Huayllo',\n",
       " 'Chupaca+San Juan De Yscos',\n",
       " 'Huamanga+Andrés Avelino Cáceres Dorregaray',\n",
       " 'Huanuco+Quisqui',\n",
       " 'Huaraz+Pampas',\n",
       " 'Leoncio Prado+Daniel Alomias Robles',\n",
       " 'Nazca+Changuillo',\n",
       " 'Nazca+El Ingenio',\n",
       " 'Nazca+Marcona',\n",
       " 'Nazca+Nazca',\n",
       " 'Nazca+Vista Alegre',\n",
       " 'Oxapampa+Constitución',\n",
       " 'Piura+26 De Octubre',\n",
       " 'Satipo+Mazamari',\n",
       " 'Satipo+Pangoa',\n",
       " 'Satipo+Vizcatán Del Ene',\n",
       " 'Tayacaja+Santiago De Túcuma',\n",
       " 'Yauyos+Ayauca'}"
      ]
     },
     "execution_count": 262,
     "metadata": {},
     "output_type": "execute_result"
    }
   ],
   "source": [
    "nomatch_df"
   ]
  },
  {
   "cell_type": "code",
   "execution_count": 263,
   "id": "3ab59042-d595-48f1-bf86-3178fc88d84a",
   "metadata": {
    "tags": []
   },
   "outputs": [
    {
     "data": {
      "text/plain": [
       "{'Andahuaylas+Jose Maria Arguedas',\n",
       " 'Aymaraes+Ihuayllo',\n",
       " 'Chupaca+San Juan De Iscos',\n",
       " 'Huamanga+Andres Avelino Caceres Dorregaray',\n",
       " 'Huanuco+Quisqui (Kichki)',\n",
       " 'Huaraz+Pampas Grande',\n",
       " 'Leoncio Prado+Daniel Alomia Robles',\n",
       " 'Nasca+Changuillo',\n",
       " 'Nasca+El Ingenio',\n",
       " 'Nasca+Marcona',\n",
       " 'Nasca+Nasca',\n",
       " 'Nasca+Vista Alegre',\n",
       " 'Oxapampa+Constitucion',\n",
       " 'Piura+Veintiseis De Octubre',\n",
       " 'Satipo+Mazamari   Pangoa',\n",
       " 'Satipo+Vizcatan Del Ene',\n",
       " 'Tayacaja+Santiago De Tucuma',\n",
       " 'Yauyos+Allauca'}"
      ]
     },
     "execution_count": 263,
     "metadata": {},
     "output_type": "execute_result"
    }
   ],
   "source": [
    "nomatch_gdf"
   ]
  },
  {
   "cell_type": "code",
   "execution_count": 264,
   "id": "bce85284-2efb-48a1-9f14-9b0bb6e78a92",
   "metadata": {
    "tags": []
   },
   "outputs": [
    {
     "data": {
      "text/plain": [
       "(19, 18)"
      ]
     },
     "execution_count": 264,
     "metadata": {},
     "output_type": "execute_result"
    }
   ],
   "source": [
    "len(nomatch_df), len(nomatch_gdf)"
   ]
  },
  {
   "cell_type": "code",
   "execution_count": 265,
   "id": "24219a0e-bd5b-4627-b720-8cc75d670258",
   "metadata": {
    "tags": []
   },
   "outputs": [
    {
     "data": {
      "text/plain": [
       "[('Andahuaylas+José María Arguedas', ('Andahuaylas+Jose Maria Arguedas', 94)),\n",
       " ('Aymaraes+Huayllo', ('Aymaraes+Ihuayllo', 97)),\n",
       " ('Chupaca+San Juan De Yscos', ('Chupaca+San Juan De Iscos', 96)),\n",
       " ('Huamanga+Andrés Avelino Cáceres Dorregaray',\n",
       "  ('Huamanga+Andres Avelino Caceres Dorregaray', 95)),\n",
       " ('Huanuco+Quisqui', ('Huanuco+Quisqui (Kichki)', 90)),\n",
       " ('Huaraz+Pampas', ('Huaraz+Pampas Grande', 90)),\n",
       " ('Leoncio Prado+Daniel Alomias Robles',\n",
       "  ('Leoncio Prado+Daniel Alomia Robles', 99)),\n",
       " ('Nazca+Changuillo', ('Nasca+Changuillo', 94)),\n",
       " ('Nazca+El Ingenio', ('Nasca+El Ingenio', 94)),\n",
       " ('Nazca+Marcona', ('Nasca+Marcona', 92)),\n",
       " ('Nazca+Nazca', ('Nasca+Nasca', 82)),\n",
       " ('Nazca+Vista Alegre', ('Nasca+Vista Alegre', 94)),\n",
       " ('Oxapampa+Constitución', ('Oxapampa+Constitucion', 95)),\n",
       " ('Piura+26 De Octubre', ('Piura+Veintiseis De Octubre', 87)),\n",
       " ('Satipo+Mazamari', ('Satipo+Mazamari   Pangoa', 90)),\n",
       " ('Satipo+Pangoa', ('Satipo+Vizcatan Del Ene', 86)),\n",
       " ('Satipo+Vizcatán Del Ene', ('Satipo+Vizcatan Del Ene', 96)),\n",
       " ('Tayacaja+Santiago De Túcuma', ('Tayacaja+Santiago De Tucuma', 96)),\n",
       " ('Yauyos+Ayauca', ('Yauyos+Allauca', 89))]"
      ]
     },
     "execution_count": 265,
     "metadata": {},
     "output_type": "execute_result"
    }
   ],
   "source": [
    "from thefuzz import process\n",
    "[(dis,process.extractOne(dis,nomatch_gdf)) for dis in sorted(nomatch_df)]"
   ]
  },
  {
   "cell_type": "code",
   "execution_count": 266,
   "id": "f44232eb-9e08-46db-ae8b-c1fdcc06e15d",
   "metadata": {
    "tags": []
   },
   "outputs": [
    {
     "data": {
      "text/plain": [
       "{'Andahuaylas+José María Arguedas': 'Andahuaylas+Jose Maria Arguedas',\n",
       " 'Aymaraes+Huayllo': 'Aymaraes+Ihuayllo',\n",
       " 'Chupaca+San Juan De Yscos': 'Chupaca+San Juan De Iscos',\n",
       " 'Huamanga+Andrés Avelino Cáceres Dorregaray': 'Huamanga+Andres Avelino Caceres Dorregaray',\n",
       " 'Huanuco+Quisqui': 'Huanuco+Quisqui (Kichki)',\n",
       " 'Huaraz+Pampas': 'Huaraz+Pampas Grande',\n",
       " 'Leoncio Prado+Daniel Alomias Robles': 'Leoncio Prado+Daniel Alomia Robles',\n",
       " 'Nazca+Changuillo': 'Nasca+Changuillo',\n",
       " 'Nazca+El Ingenio': 'Nasca+El Ingenio',\n",
       " 'Nazca+Marcona': 'Nasca+Marcona',\n",
       " 'Nazca+Nazca': 'Nasca+Nasca',\n",
       " 'Nazca+Vista Alegre': 'Nasca+Vista Alegre',\n",
       " 'Oxapampa+Constitución': 'Oxapampa+Constitucion',\n",
       " 'Piura+26 De Octubre': 'Piura+Veintiseis De Octubre',\n",
       " 'Satipo+Mazamari': 'Satipo+Mazamari   Pangoa',\n",
       " 'Satipo+Pangoa': 'Satipo+Vizcatan Del Ene',\n",
       " 'Satipo+Vizcatán Del Ene': 'Satipo+Vizcatan Del Ene',\n",
       " 'Tayacaja+Santiago De Túcuma': 'Tayacaja+Santiago De Tucuma',\n",
       " 'Yauyos+Ayauca': 'Yauyos+Allauca'}"
      ]
     },
     "execution_count": 266,
     "metadata": {},
     "output_type": "execute_result"
    }
   ],
   "source": [
    "{dis:process.extractOne(dis,nomatch_gdf)[0] for dis in sorted(nomatch_df)}"
   ]
  },
  {
   "cell_type": "code",
   "execution_count": 267,
   "id": "c2b13256-6683-40d9-9f19-03196e990876",
   "metadata": {
    "tags": []
   },
   "outputs": [],
   "source": [
    "changesDis_df={dis:process.extractOne(dis,nomatch_gdf)[0] for dis in sorted(nomatch_df)}\n",
    "datadis.provDist.replace(changesDis_df,inplace=True)"
   ]
  },
  {
   "cell_type": "code",
   "execution_count": 268,
   "id": "7aed763d-e3c1-4be3-b316-b71f7df56b89",
   "metadata": {
    "tags": []
   },
   "outputs": [
    {
     "name": "stdout",
     "output_type": "stream",
     "text": [
      "<class 'geopandas.geodataframe.GeoDataFrame'>\n",
      "RangeIndex: 1874 entries, 0 to 1873\n",
      "Data columns (total 11 columns):\n",
      " #   Column                  Non-Null Count  Dtype   \n",
      "---  ------                  --------------  -----   \n",
      " 0   Distrito_x              1874 non-null   object  \n",
      " 1   Provincia_x             1874 non-null   object  \n",
      " 2   Departamento_x          1874 non-null   object  \n",
      " 3   geometry                1874 non-null   geometry\n",
      " 4   provDist                1874 non-null   object  \n",
      " 5   Distrito_y              1874 non-null   object  \n",
      " 6   Provincia_y             1874 non-null   object  \n",
      " 7   Departamento_y          1874 non-null   object  \n",
      " 8   Poblacion               1874 non-null   int64   \n",
      " 9   secundariaCompleta_pct  1874 non-null   float64 \n",
      " 10  sinServHigiene_pct      1874 non-null   float64 \n",
      "dtypes: float64(2), geometry(1), int64(1), object(7)\n",
      "memory usage: 161.2+ KB\n"
     ]
    }
   ],
   "source": [
    "disMapMerge=disMap.merge(datadis, on='provDist')\n",
    "# check\n",
    "disMapMerge.info()"
   ]
  },
  {
   "cell_type": "code",
   "execution_count": 269,
   "id": "6dfa159a-5dfc-4cf8-a332-e819a45875f0",
   "metadata": {
    "tags": []
   },
   "outputs": [
    {
     "data": {
      "text/plain": [
       "(1874, 11)"
      ]
     },
     "execution_count": 269,
     "metadata": {},
     "output_type": "execute_result"
    }
   ],
   "source": [
    "disMapMerge.shape"
   ]
  },
  {
   "cell_type": "code",
   "execution_count": 270,
   "id": "96c7914a-c197-4dc9-9b25-ac014c867cd9",
   "metadata": {
    "tags": []
   },
   "outputs": [
    {
     "data": {
      "text/html": [
       "<div>\n",
       "<style scoped>\n",
       "    .dataframe tbody tr th:only-of-type {\n",
       "        vertical-align: middle;\n",
       "    }\n",
       "\n",
       "    .dataframe tbody tr th {\n",
       "        vertical-align: top;\n",
       "    }\n",
       "\n",
       "    .dataframe thead th {\n",
       "        text-align: right;\n",
       "    }\n",
       "</style>\n",
       "<table border=\"1\" class=\"dataframe\">\n",
       "  <thead>\n",
       "    <tr style=\"text-align: right;\">\n",
       "      <th></th>\n",
       "      <th>provDist</th>\n",
       "      <th>Provincia</th>\n",
       "      <th>Distrito</th>\n",
       "      <th>Poblacion</th>\n",
       "      <th>secundariaCompleta_pct</th>\n",
       "      <th>sinServHigiene_pct</th>\n",
       "      <th>geometry</th>\n",
       "    </tr>\n",
       "  </thead>\n",
       "  <tbody>\n",
       "    <tr>\n",
       "      <th>0</th>\n",
       "      <td>Abancay+Abancay</td>\n",
       "      <td>Abancay</td>\n",
       "      <td>Abancay</td>\n",
       "      <td>56871</td>\n",
       "      <td>78.865450</td>\n",
       "      <td>2.9</td>\n",
       "      <td>POLYGON ((1043456.374 578809.517, 1043472.076 ...</td>\n",
       "    </tr>\n",
       "    <tr>\n",
       "      <th>1</th>\n",
       "      <td>Bolognesi+Abelardo Pardo Lezameta</td>\n",
       "      <td>Bolognesi</td>\n",
       "      <td>Abelardo Pardo Lezameta</td>\n",
       "      <td>1263</td>\n",
       "      <td>50.434603</td>\n",
       "      <td>25.4</td>\n",
       "      <td>POLYGON ((589625.329 950159.105, 589731.729 95...</td>\n",
       "    </tr>\n",
       "    <tr>\n",
       "      <th>2</th>\n",
       "      <td>Caraveli+Acari</td>\n",
       "      <td>Caraveli</td>\n",
       "      <td>Acari</td>\n",
       "      <td>3010</td>\n",
       "      <td>56.273614</td>\n",
       "      <td>8.8</td>\n",
       "      <td>POLYGON ((855604.724 408148.590, 855990.585 40...</td>\n",
       "    </tr>\n",
       "    <tr>\n",
       "      <th>3</th>\n",
       "      <td>Ocros+Acas</td>\n",
       "      <td>Ocros</td>\n",
       "      <td>Acas</td>\n",
       "      <td>1057</td>\n",
       "      <td>72.527156</td>\n",
       "      <td>67.6</td>\n",
       "      <td>POLYGON ((576776.387 934936.983, 576726.618 93...</td>\n",
       "    </tr>\n",
       "    <tr>\n",
       "      <th>4</th>\n",
       "      <td>Paruro+Accha</td>\n",
       "      <td>Paruro</td>\n",
       "      <td>Accha</td>\n",
       "      <td>3839</td>\n",
       "      <td>64.586647</td>\n",
       "      <td>11.1</td>\n",
       "      <td>POLYGON ((1164542.373 533562.907, 1164551.644 ...</td>\n",
       "    </tr>\n",
       "  </tbody>\n",
       "</table>\n",
       "</div>"
      ],
      "text/plain": [
       "                            provDist  Provincia                 Distrito  \\\n",
       "0                    Abancay+Abancay    Abancay                  Abancay   \n",
       "1  Bolognesi+Abelardo Pardo Lezameta  Bolognesi  Abelardo Pardo Lezameta   \n",
       "2                     Caraveli+Acari   Caraveli                    Acari   \n",
       "3                         Ocros+Acas      Ocros                     Acas   \n",
       "4                       Paruro+Accha     Paruro                    Accha   \n",
       "\n",
       "   Poblacion  secundariaCompleta_pct  sinServHigiene_pct  \\\n",
       "0      56871               78.865450                 2.9   \n",
       "1       1263               50.434603                25.4   \n",
       "2       3010               56.273614                 8.8   \n",
       "3       1057               72.527156                67.6   \n",
       "4       3839               64.586647                11.1   \n",
       "\n",
       "                                            geometry  \n",
       "0  POLYGON ((1043456.374 578809.517, 1043472.076 ...  \n",
       "1  POLYGON ((589625.329 950159.105, 589731.729 95...  \n",
       "2  POLYGON ((855604.724 408148.590, 855990.585 40...  \n",
       "3  POLYGON ((576776.387 934936.983, 576726.618 93...  \n",
       "4  POLYGON ((1164542.373 533562.907, 1164551.644 ...  "
      ]
     },
     "execution_count": 270,
     "metadata": {},
     "output_type": "execute_result"
    }
   ],
   "source": [
    "disMapMerge = disMapMerge[['provDist','Provincia_y','Distrito_y','Poblacion','secundariaCompleta_pct','sinServHigiene_pct','geometry']]\n",
    "disMapMerge.rename(columns={'Provincia_y':'Provincia','Distrito_y':'Distrito'},inplace=True)\n",
    "disMapMerge.head()"
   ]
  },
  {
   "cell_type": "markdown",
   "id": "82317613-c35a-4523-947e-c941a721d3bc",
   "metadata": {},
   "source": [
    "## Exercise 6"
   ]
  },
  {
   "cell_type": "markdown",
   "id": "4df0fc91-d43d-4158-9b51-4f39a2a8a690",
   "metadata": {},
   "source": [
    "### 1. Choose a numeric variable from your merged data."
   ]
  },
  {
   "cell_type": "code",
   "execution_count": 271,
   "id": "55155bef-85d3-4e10-b8cb-ed7e7303c752",
   "metadata": {
    "tags": []
   },
   "outputs": [
    {
     "data": {
      "text/plain": [
       "count    1874.000000\n",
       "mean       55.769523\n",
       "std        15.728123\n",
       "min        11.974433\n",
       "25%        44.466678\n",
       "50%        57.164771\n",
       "75%        68.202230\n",
       "max        91.744878\n",
       "Name: secundariaCompleta_pct, dtype: float64"
      ]
     },
     "execution_count": 271,
     "metadata": {},
     "output_type": "execute_result"
    }
   ],
   "source": [
    "disMapMerge.secundariaCompleta_pct.describe()"
   ]
  },
  {
   "cell_type": "code",
   "execution_count": 272,
   "id": "7ae6d053-b506-4209-a242-ff6e9d2151fc",
   "metadata": {
    "tags": []
   },
   "outputs": [
    {
     "data": {
      "text/plain": [
       "<Axes: xlabel='secundariaCompleta_pct', ylabel='Count'>"
      ]
     },
     "execution_count": 272,
     "metadata": {},
     "output_type": "execute_result"
    },
    {
     "data": {
      "image/png": "[encoded data removed]",
      "text/plain": [
       "<Figure size 640x480 with 1 Axes>"
      ]
     },
     "metadata": {},
     "output_type": "display_data"
    }
   ],
   "source": [
    "import seaborn as sea\n",
    "\n",
    "sea.histplot(disMapMerge.secundariaCompleta_pct, color='purple')"
   ]
  },
  {
   "cell_type": "raw",
   "id": "4ef046f4-6f36-4bf1-8276-385b9dd81986",
   "metadata": {
    "jupyter": {
     "outputs_hidden": true
    },
    "tags": []
   },
   "source": [
    "pip install numba"
   ]
  },
  {
   "cell_type": "raw",
   "id": "53f27f62-e344-408a-b450-4fcf263bdf4e",
   "metadata": {
    "jupyter": {
     "outputs_hidden": true
    },
    "tags": []
   },
   "source": [
    "pip install pysal"
   ]
  },
  {
   "cell_type": "raw",
   "id": "f3d0309e-8440-491e-91cf-50903174463e",
   "metadata": {
    "jupyter": {
     "outputs_hidden": true
    },
    "tags": []
   },
   "source": [
    "pip install mapclassify"
   ]
  },
  {
   "cell_type": "markdown",
   "id": "e824465f-09c1-4e8e-a27b-b2a77b8273e0",
   "metadata": {},
   "source": [
    "### 2. Decide which is the  best classification scheme for that variable."
   ]
  },
  {
   "cell_type": "code",
   "execution_count": 294,
   "id": "15440b05-40f9-4cf6-8877-fca61427b850",
   "metadata": {
    "tags": []
   },
   "outputs": [],
   "source": [
    "import mapclassify \n",
    "import numpy as np\n",
    "\n",
    "# let's try 5 intervals\n",
    "K=5\n",
    "theVar=disMapMerge['secundariaCompleta_pct']\n",
    "# same interval width, easy interpretation\n",
    "ei5 = mapclassify.EqualInterval(theVar, k=K)\n",
    "# same interval width based on standard deviation, easy - but not as the previous one, poor when high skewness\n",
    "msd = mapclassify.StdMean(theVar)\n",
    "# interval width varies, counts per interval are close, not easy to grasp, repeated values complicate cuts                                \n",
    "q5=mapclassify.Quantiles(theVar,k=K)\n",
    "\n",
    "# based on similarity, good for multimodal data \n",
    "mb5 = mapclassify.MaximumBreaks(theVar, k=K)\n",
    "# based on similarity, good for skewed data\n",
    "ht = mapclassify.HeadTailBreaks(theVar) # no K needed\n",
    "# based on similarity, optimizer\n",
    "fj5 = mapclassify.FisherJenks(theVar, k=K)\n",
    "# based on similarity, optimizer\n",
    "jc5 = mapclassify.JenksCaspall(theVar, k=K)\n",
    "# based on similarity, optimizer\n",
    "mp5 = mapclassify.MaxP(theVar, k=K) "
   ]
  },
  {
   "cell_type": "code",
   "execution_count": 307,
   "id": "15149895-f9cc-49eb-bdac-98c0a6fc631c",
   "metadata": {
    "tags": []
   },
   "outputs": [
    {
     "data": {
      "text/html": [
       "<div>\n",
       "<style scoped>\n",
       "    .dataframe tbody tr th:only-of-type {\n",
       "        vertical-align: middle;\n",
       "    }\n",
       "\n",
       "    .dataframe tbody tr th {\n",
       "        vertical-align: top;\n",
       "    }\n",
       "\n",
       "    .dataframe thead th {\n",
       "        text-align: right;\n",
       "    }\n",
       "</style>\n",
       "<table border=\"1\" class=\"dataframe\">\n",
       "  <thead>\n",
       "    <tr style=\"text-align: right;\">\n",
       "      <th></th>\n",
       "      <th>0</th>\n",
       "      <th>Classifier</th>\n",
       "    </tr>\n",
       "  </thead>\n",
       "  <tbody>\n",
       "    <tr>\n",
       "      <th>0</th>\n",
       "      <td>5901.939889</td>\n",
       "      <td>Quantiles</td>\n",
       "    </tr>\n",
       "    <tr>\n",
       "      <th>1</th>\n",
       "      <td>6835.047503</td>\n",
       "      <td>EqualInterval</td>\n",
       "    </tr>\n",
       "    <tr>\n",
       "      <th>2</th>\n",
       "      <td>11006.290432</td>\n",
       "      <td>StdMean</td>\n",
       "    </tr>\n",
       "    <tr>\n",
       "      <th>3</th>\n",
       "      <td>9468.638129</td>\n",
       "      <td>HeadTailBreaks</td>\n",
       "    </tr>\n",
       "    <tr>\n",
       "      <th>4</th>\n",
       "      <td>23882.204819</td>\n",
       "      <td>MaximumBreaks</td>\n",
       "    </tr>\n",
       "    <tr>\n",
       "      <th>5</th>\n",
       "      <td>5948.531638</td>\n",
       "      <td>FisherJenks</td>\n",
       "    </tr>\n",
       "    <tr>\n",
       "      <th>6</th>\n",
       "      <td>5838.370127</td>\n",
       "      <td>JenksCaspall</td>\n",
       "    </tr>\n",
       "    <tr>\n",
       "      <th>7</th>\n",
       "      <td>7578.338346</td>\n",
       "      <td>MaxP</td>\n",
       "    </tr>\n",
       "  </tbody>\n",
       "</table>\n",
       "</div>"
      ],
      "text/plain": [
       "              0      Classifier\n",
       "0   5901.939889       Quantiles\n",
       "1   6835.047503   EqualInterval\n",
       "2  11006.290432         StdMean\n",
       "3   9468.638129  HeadTailBreaks\n",
       "4  23882.204819   MaximumBreaks\n",
       "5   5948.531638     FisherJenks\n",
       "6   5838.370127    JenksCaspall\n",
       "7   7578.338346            MaxP"
      ]
     },
     "execution_count": 307,
     "metadata": {},
     "output_type": "execute_result"
    }
   ],
   "source": [
    "class5 = q5, ei5,msd, ht, mb5, fj5, jc5, mp5\n",
    "# Collect ADCM for each classifier\n",
    "fits = np.array([ c.adcm for c in class5])\n",
    "# Convert ADCM scores to a DataFrame\n",
    "adcms = pd.DataFrame(fits)\n",
    "# Add classifier names\n",
    "adcms['Classifier'] = [c.name for c in class5]\n",
    "\n",
    "# see the value\n",
    "adcms"
   ]
  },
  {
   "cell_type": "code",
   "execution_count": 308,
   "id": "b872528e-b9b0-44a5-b624-36d583b53eb5",
   "metadata": {
    "tags": []
   },
   "outputs": [
    {
     "data": {
      "text/html": [
       "<div>\n",
       "<style scoped>\n",
       "    .dataframe tbody tr th:only-of-type {\n",
       "        vertical-align: middle;\n",
       "    }\n",
       "\n",
       "    .dataframe tbody tr th {\n",
       "        vertical-align: top;\n",
       "    }\n",
       "\n",
       "    .dataframe thead th {\n",
       "        text-align: right;\n",
       "    }\n",
       "</style>\n",
       "<table border=\"1\" class=\"dataframe\">\n",
       "  <thead>\n",
       "    <tr style=\"text-align: right;\">\n",
       "      <th></th>\n",
       "      <th>index</th>\n",
       "      <th>ADCM</th>\n",
       "      <th>Classifier</th>\n",
       "    </tr>\n",
       "  </thead>\n",
       "  <tbody>\n",
       "    <tr>\n",
       "      <th>0</th>\n",
       "      <td>6</td>\n",
       "      <td>5838.370127</td>\n",
       "      <td>JenksCaspall</td>\n",
       "    </tr>\n",
       "    <tr>\n",
       "      <th>1</th>\n",
       "      <td>0</td>\n",
       "      <td>5901.939889</td>\n",
       "      <td>Quantiles</td>\n",
       "    </tr>\n",
       "    <tr>\n",
       "      <th>2</th>\n",
       "      <td>5</td>\n",
       "      <td>5948.531638</td>\n",
       "      <td>FisherJenks</td>\n",
       "    </tr>\n",
       "    <tr>\n",
       "      <th>3</th>\n",
       "      <td>1</td>\n",
       "      <td>6835.047503</td>\n",
       "      <td>EqualInterval</td>\n",
       "    </tr>\n",
       "    <tr>\n",
       "      <th>4</th>\n",
       "      <td>7</td>\n",
       "      <td>7578.338346</td>\n",
       "      <td>MaxP</td>\n",
       "    </tr>\n",
       "    <tr>\n",
       "      <th>5</th>\n",
       "      <td>3</td>\n",
       "      <td>9468.638129</td>\n",
       "      <td>HeadTailBreaks</td>\n",
       "    </tr>\n",
       "    <tr>\n",
       "      <th>6</th>\n",
       "      <td>2</td>\n",
       "      <td>11006.290432</td>\n",
       "      <td>StdMean</td>\n",
       "    </tr>\n",
       "    <tr>\n",
       "      <th>7</th>\n",
       "      <td>4</td>\n",
       "      <td>23882.204819</td>\n",
       "      <td>MaximumBreaks</td>\n",
       "    </tr>\n",
       "  </tbody>\n",
       "</table>\n",
       "</div>"
      ],
      "text/plain": [
       "   index          ADCM      Classifier\n",
       "0      6   5838.370127    JenksCaspall\n",
       "1      0   5901.939889       Quantiles\n",
       "2      5   5948.531638     FisherJenks\n",
       "3      1   6835.047503   EqualInterval\n",
       "4      7   7578.338346            MaxP\n",
       "5      3   9468.638129  HeadTailBreaks\n",
       "6      2  11006.290432         StdMean\n",
       "7      4  23882.204819   MaximumBreaks"
      ]
     },
     "execution_count": 308,
     "metadata": {},
     "output_type": "execute_result"
    }
   ],
   "source": [
    "# rename\n",
    "adcms.rename(columns = {0:'ADCM'},inplace=True)\n",
    "adcms=adcms.sort_values('ADCM').reset_index()\n",
    "adcms"
   ]
  },
  {
   "cell_type": "code",
   "execution_count": 309,
   "id": "8170a22b-11c3-437e-b670-525d338e67c3",
   "metadata": {
    "tags": []
   },
   "outputs": [
    {
     "data": {
      "text/plain": [
       "<Axes: xlabel='ADCM', ylabel='Classifier'>"
      ]
     },
     "execution_count": 309,
     "metadata": {},
     "output_type": "execute_result"
    },
    {
     "data": {
      "image/png": "[encoded data removed]",
      "text/plain": [
       "<Figure size 640x480 with 1 Axes>"
      ]
     },
     "metadata": {},
     "output_type": "display_data"
    }
   ],
   "source": [
    "# reorder and plot\n",
    "sea.barplot(y='Classifier', hue='Classifier', x='ADCM', data=adcms, palette='Pastel1')"
   ]
  },
  {
   "cell_type": "code",
   "execution_count": 297,
   "id": "04a26a69-dfe0-4758-b975-ceac639d1039",
   "metadata": {
    "tags": []
   },
   "outputs": [],
   "source": [
    "# Mantenemos el menor valor del ADCM\n",
    "disMapMerge['secComp_jc5'] = jc5.yb"
   ]
  },
  {
   "cell_type": "code",
   "execution_count": 298,
   "id": "7ec57409-9ab2-4250-b11a-3bf35d3808d2",
   "metadata": {
    "tags": []
   },
   "outputs": [
    {
     "data": {
      "text/html": [
       "<div>\n",
       "<style scoped>\n",
       "    .dataframe tbody tr th:only-of-type {\n",
       "        vertical-align: middle;\n",
       "    }\n",
       "\n",
       "    .dataframe tbody tr th {\n",
       "        vertical-align: top;\n",
       "    }\n",
       "\n",
       "    .dataframe thead th {\n",
       "        text-align: right;\n",
       "    }\n",
       "</style>\n",
       "<table border=\"1\" class=\"dataframe\">\n",
       "  <thead>\n",
       "    <tr style=\"text-align: right;\">\n",
       "      <th></th>\n",
       "      <th>provDist</th>\n",
       "      <th>Provincia</th>\n",
       "      <th>Distrito</th>\n",
       "      <th>Poblacion</th>\n",
       "      <th>secundariaCompleta_pct</th>\n",
       "      <th>sinServHigiene_pct</th>\n",
       "      <th>geometry</th>\n",
       "      <th>secComp_jc5</th>\n",
       "      <th>secComp_jc4</th>\n",
       "    </tr>\n",
       "  </thead>\n",
       "  <tbody>\n",
       "    <tr>\n",
       "      <th>0</th>\n",
       "      <td>Abancay+Abancay</td>\n",
       "      <td>Abancay</td>\n",
       "      <td>Abancay</td>\n",
       "      <td>56871</td>\n",
       "      <td>78.865450</td>\n",
       "      <td>2.9</td>\n",
       "      <td>POLYGON ((1043456.374 578809.517, 1043472.076 ...</td>\n",
       "      <td>4</td>\n",
       "      <td>3</td>\n",
       "    </tr>\n",
       "    <tr>\n",
       "      <th>1</th>\n",
       "      <td>Bolognesi+Abelardo Pardo Lezameta</td>\n",
       "      <td>Bolognesi</td>\n",
       "      <td>Abelardo Pardo Lezameta</td>\n",
       "      <td>1263</td>\n",
       "      <td>50.434603</td>\n",
       "      <td>25.4</td>\n",
       "      <td>POLYGON ((589625.329 950159.105, 589731.729 95...</td>\n",
       "      <td>1</td>\n",
       "      <td>1</td>\n",
       "    </tr>\n",
       "    <tr>\n",
       "      <th>2</th>\n",
       "      <td>Caraveli+Acari</td>\n",
       "      <td>Caraveli</td>\n",
       "      <td>Acari</td>\n",
       "      <td>3010</td>\n",
       "      <td>56.273614</td>\n",
       "      <td>8.8</td>\n",
       "      <td>POLYGON ((855604.724 408148.590, 855990.585 40...</td>\n",
       "      <td>2</td>\n",
       "      <td>1</td>\n",
       "    </tr>\n",
       "    <tr>\n",
       "      <th>3</th>\n",
       "      <td>Ocros+Acas</td>\n",
       "      <td>Ocros</td>\n",
       "      <td>Acas</td>\n",
       "      <td>1057</td>\n",
       "      <td>72.527156</td>\n",
       "      <td>67.6</td>\n",
       "      <td>POLYGON ((576776.387 934936.983, 576726.618 93...</td>\n",
       "      <td>4</td>\n",
       "      <td>3</td>\n",
       "    </tr>\n",
       "    <tr>\n",
       "      <th>4</th>\n",
       "      <td>Paruro+Accha</td>\n",
       "      <td>Paruro</td>\n",
       "      <td>Accha</td>\n",
       "      <td>3839</td>\n",
       "      <td>64.586647</td>\n",
       "      <td>11.1</td>\n",
       "      <td>POLYGON ((1164542.373 533562.907, 1164551.644 ...</td>\n",
       "      <td>3</td>\n",
       "      <td>2</td>\n",
       "    </tr>\n",
       "  </tbody>\n",
       "</table>\n",
       "</div>"
      ],
      "text/plain": [
       "                            provDist  Provincia                 Distrito  \\\n",
       "0                    Abancay+Abancay    Abancay                  Abancay   \n",
       "1  Bolognesi+Abelardo Pardo Lezameta  Bolognesi  Abelardo Pardo Lezameta   \n",
       "2                     Caraveli+Acari   Caraveli                    Acari   \n",
       "3                         Ocros+Acas      Ocros                     Acas   \n",
       "4                       Paruro+Accha     Paruro                    Accha   \n",
       "\n",
       "   Poblacion  secundariaCompleta_pct  sinServHigiene_pct  \\\n",
       "0      56871               78.865450                 2.9   \n",
       "1       1263               50.434603                25.4   \n",
       "2       3010               56.273614                 8.8   \n",
       "3       1057               72.527156                67.6   \n",
       "4       3839               64.586647                11.1   \n",
       "\n",
       "                                            geometry  secComp_jc5  secComp_jc4  \n",
       "0  POLYGON ((1043456.374 578809.517, 1043472.076 ...            4            3  \n",
       "1  POLYGON ((589625.329 950159.105, 589731.729 95...            1            1  \n",
       "2  POLYGON ((855604.724 408148.590, 855990.585 40...            2            1  \n",
       "3  POLYGON ((576776.387 934936.983, 576726.618 93...            4            3  \n",
       "4  POLYGON ((1164542.373 533562.907, 1164551.644 ...            3            2  "
      ]
     },
     "execution_count": 298,
     "metadata": {},
     "output_type": "execute_result"
    }
   ],
   "source": [
    "disMapMerge.head()"
   ]
  },
  {
   "cell_type": "markdown",
   "id": "92adaff1-630a-4eed-820d-742085bf4e52",
   "metadata": {},
   "source": [
    "### 3. Make a map for the best scheme."
   ]
  },
  {
   "cell_type": "code",
   "execution_count": 299,
   "id": "9d2f5d26-11fe-4c02-92bf-252a52209449",
   "metadata": {
    "tags": []
   },
   "outputs": [
    {
     "data": {
      "text/plain": [
       "secComp_jc5    False\n",
       "dtype: bool"
      ]
     },
     "execution_count": 299,
     "metadata": {},
     "output_type": "execute_result"
    }
   ],
   "source": [
    "disMapMerge[['secComp_jc5']].isna().any()"
   ]
  },
  {
   "cell_type": "code",
   "execution_count": 300,
   "id": "c76b02c5-6c95-473a-a1d4-656b7f473c13",
   "metadata": {
    "tags": []
   },
   "outputs": [
    {
     "name": "stderr",
     "output_type": "stream",
     "text": [
      "C:\\Users\\pieri\\anaconda3\\envs\\miamb\\Lib\\site-packages\\mapclassify\\classifiers.py:2123: UserWarning: Not enough unique values in array to form 5 classes. Setting k to 4.\n",
      "  q = quantile(x, k)\n",
      "C:\\Users\\pieri\\anaconda3\\envs\\miamb\\Lib\\site-packages\\numpy\\core\\fromnumeric.py:3504: RuntimeWarning: Mean of empty slice.\n",
      "  return _methods._mean(a, axis=axis, dtype=dtype,\n",
      "C:\\Users\\pieri\\anaconda3\\envs\\miamb\\Lib\\site-packages\\numpy\\core\\_methods.py:129: RuntimeWarning: invalid value encountered in scalar divide\n",
      "  ret = ret.dtype.type(ret / rcount)\n"
     ]
    },
    {
     "data": {
      "image/png": "[encoded data removed]",
      "text/plain": [
       "<Figure size 900x900 with 1 Axes>"
      ]
     },
     "metadata": {},
     "output_type": "display_data"
    }
   ],
   "source": [
    "f, ax = plt.subplots(1, figsize=(9, 9))\n",
    "disMapMerge.plot(column='secComp_jc5', \n",
    "        cmap='viridis',       \n",
    "        scheme='JenksCaspall',\n",
    "        k=5, \n",
    "        edgecolor='white', \n",
    "        linewidth=0., \n",
    "        alpha=0.75, \n",
    "        legend=True,\n",
    "        legend_kwds=dict(loc=2),\n",
    "        ax=ax\n",
    "       )\n",
    "\n",
    "ax.set_axis_off()"
   ]
  },
  {
   "cell_type": "markdown",
   "id": "2be11e08-d522-4576-91e3-31ab51ef9412",
   "metadata": {},
   "source": [
    "### 4. Make a histogram for the best scheme."
   ]
  },
  {
   "cell_type": "code",
   "execution_count": 310,
   "id": "0eda27ab-840f-44b2-87d4-a94b787eb0a5",
   "metadata": {
    "tags": []
   },
   "outputs": [
    {
     "data": {
      "text/plain": [
       "JenksCaspall\n",
       "\n",
       "   Interval      Count\n",
       "----------------------\n",
       "[11.97, 39.19] |   329\n",
       "(39.19, 50.77] |   348\n",
       "(50.77, 61.15] |   439\n",
       "(61.15, 71.31] |   421\n",
       "(71.31, 91.74] |   337"
      ]
     },
     "execution_count": 310,
     "metadata": {},
     "output_type": "execute_result"
    }
   ],
   "source": [
    "jc5"
   ]
  },
  {
   "cell_type": "code",
   "execution_count": 312,
   "id": "40999c3a-3049-471b-a76e-3e1b54768392",
   "metadata": {
    "tags": []
   },
   "outputs": [
    {
     "data": {
      "text/plain": [
       "(array([0, 1, 2, 3, 4]), array([329, 348, 439, 421, 337], dtype=int64))"
      ]
     },
     "execution_count": 312,
     "metadata": {},
     "output_type": "execute_result"
    }
   ],
   "source": [
    "# etiqueta de cada grupo\n",
    "np.unique(jc5.yb,return_counts=True)"
   ]
  },
  {
   "cell_type": "code",
   "execution_count": 313,
   "id": "64b26f7b-97a3-4bd7-994d-f055582e59df",
   "metadata": {
    "tags": []
   },
   "outputs": [
    {
     "data": {
      "text/plain": [
       "2    439\n",
       "3    421\n",
       "1    348\n",
       "4    337\n",
       "0    329\n",
       "Name: count, dtype: int64"
      ]
     },
     "execution_count": 313,
     "metadata": {},
     "output_type": "execute_result"
    }
   ],
   "source": [
    "pd.Series(jc5.yb).value_counts()"
   ]
  },
  {
   "cell_type": "code",
   "execution_count": 314,
   "id": "73f69377-8b20-4cdb-99f2-b9211ca4e36f",
   "metadata": {
    "tags": []
   },
   "outputs": [
    {
     "data": {
      "text/plain": [
       "array([39.19413594, 50.76999104, 61.15310816, 71.31262693, 91.7448777 ])"
      ]
     },
     "execution_count": 314,
     "metadata": {},
     "output_type": "execute_result"
    }
   ],
   "source": [
    "jc5.bins"
   ]
  },
  {
   "cell_type": "code",
   "execution_count": 316,
   "id": "a3c23da7-d268-4f20-9bc3-4dbe8341b96d",
   "metadata": {
    "tags": []
   },
   "outputs": [],
   "source": [
    "jc5_bins = list(jc5.bins)\n",
    "jc5_bins.insert(0,disMapMerge.secundariaCompleta_pct.min())"
   ]
  },
  {
   "cell_type": "code",
   "execution_count": 318,
   "id": "e3886907-8ef9-4838-80dd-d3e9f23aa797",
   "metadata": {
    "tags": []
   },
   "outputs": [
    {
     "data": {
      "text/plain": [
       "<Axes: xlabel='secundariaCompleta_pct', ylabel='Count'>"
      ]
     },
     "execution_count": 318,
     "metadata": {},
     "output_type": "execute_result"
    },
    {
     "data": {
      "image/png": "[encoded data removed]",
      "text/plain": [
       "<Figure size 640x480 with 1 Axes>"
      ]
     },
     "metadata": {},
     "output_type": "display_data"
    }
   ],
   "source": [
    "sea.histplot(disMapMerge.secundariaCompleta_pct,bins = jc5_bins, color = 'yellowgreen')"
   ]
  },
  {
   "cell_type": "markdown",
   "id": "f0afe143-3bbf-4993-acec-5d77338517c8",
   "metadata": {},
   "source": [
    "## Exercise 7"
   ]
  },
  {
   "cell_type": "markdown",
   "id": "15c12356-3dc7-40db-b7fe-f4c6d9af4fa6",
   "metadata": {},
   "source": [
    "        \n",
    "#### Compute the neighbors of the capital of your country. Plot the results for each of the options."
   ]
  },
  {
   "cell_type": "code",
   "execution_count": 362,
   "id": "7c5a9819-5740-4f24-a716-247072532b73",
   "metadata": {
    "tags": []
   },
   "outputs": [
    {
     "data": {
      "text/html": [
       "<div>\n",
       "<style scoped>\n",
       "    .dataframe tbody tr th:only-of-type {\n",
       "        vertical-align: middle;\n",
       "    }\n",
       "\n",
       "    .dataframe tbody tr th {\n",
       "        vertical-align: top;\n",
       "    }\n",
       "\n",
       "    .dataframe thead th {\n",
       "        text-align: right;\n",
       "    }\n",
       "</style>\n",
       "<table border=\"1\" class=\"dataframe\">\n",
       "  <thead>\n",
       "    <tr style=\"text-align: right;\">\n",
       "      <th></th>\n",
       "      <th>Provincia</th>\n",
       "      <th>geometry</th>\n",
       "      <th>provDist</th>\n",
       "      <th>Distrito</th>\n",
       "      <th>Poblacion</th>\n",
       "      <th>secundariaCompleta_pct</th>\n",
       "      <th>sinServHigiene_pct</th>\n",
       "      <th>secComp_jc5</th>\n",
       "      <th>secComp_jc4</th>\n",
       "    </tr>\n",
       "  </thead>\n",
       "  <tbody>\n",
       "    <tr>\n",
       "      <th>0</th>\n",
       "      <td>Abancay</td>\n",
       "      <td>POLYGON ((1033050.673 516632.386, 1032734.013 ...</td>\n",
       "      <td>Abancay+Abancay</td>\n",
       "      <td>Abancay</td>\n",
       "      <td>56871</td>\n",
       "      <td>78.865450</td>\n",
       "      <td>2.9</td>\n",
       "      <td>4</td>\n",
       "      <td>3</td>\n",
       "    </tr>\n",
       "    <tr>\n",
       "      <th>1</th>\n",
       "      <td>Acobamba</td>\n",
       "      <td>POLYGON ((882534.168 667005.909, 882691.469 66...</td>\n",
       "      <td>Acobamba+Acobamba</td>\n",
       "      <td>Acobamba</td>\n",
       "      <td>10258</td>\n",
       "      <td>62.337880</td>\n",
       "      <td>10.3</td>\n",
       "      <td>3</td>\n",
       "      <td>2</td>\n",
       "    </tr>\n",
       "    <tr>\n",
       "      <th>2</th>\n",
       "      <td>Acomayo</td>\n",
       "      <td>POLYGON ((1204182.279 514473.605, 1204108.221 ...</td>\n",
       "      <td>Acomayo+Acomayo</td>\n",
       "      <td>Acomayo</td>\n",
       "      <td>5627</td>\n",
       "      <td>60.402557</td>\n",
       "      <td>12.4</td>\n",
       "      <td>2</td>\n",
       "      <td>2</td>\n",
       "    </tr>\n",
       "    <tr>\n",
       "      <th>3</th>\n",
       "      <td>Aija</td>\n",
       "      <td>POLYGON ((544922.552 997945.997, 544870.523 99...</td>\n",
       "      <td>Aija+Aija</td>\n",
       "      <td>Aija</td>\n",
       "      <td>1841</td>\n",
       "      <td>63.469151</td>\n",
       "      <td>6.0</td>\n",
       "      <td>3</td>\n",
       "      <td>2</td>\n",
       "    </tr>\n",
       "    <tr>\n",
       "      <th>4</th>\n",
       "      <td>Alto Amazonas</td>\n",
       "      <td>POLYGON ((772697.921 1435431.207, 772670.572 1...</td>\n",
       "      <td>Alto Amazonas+Balsapuerto</td>\n",
       "      <td>Balsapuerto</td>\n",
       "      <td>18042</td>\n",
       "      <td>11.974433</td>\n",
       "      <td>85.3</td>\n",
       "      <td>0</td>\n",
       "      <td>0</td>\n",
       "    </tr>\n",
       "  </tbody>\n",
       "</table>\n",
       "</div>"
      ],
      "text/plain": [
       "       Provincia                                           geometry  \\\n",
       "0        Abancay  POLYGON ((1033050.673 516632.386, 1032734.013 ...   \n",
       "1       Acobamba  POLYGON ((882534.168 667005.909, 882691.469 66...   \n",
       "2        Acomayo  POLYGON ((1204182.279 514473.605, 1204108.221 ...   \n",
       "3           Aija  POLYGON ((544922.552 997945.997, 544870.523 99...   \n",
       "4  Alto Amazonas  POLYGON ((772697.921 1435431.207, 772670.572 1...   \n",
       "\n",
       "                    provDist     Distrito  Poblacion  secundariaCompleta_pct  \\\n",
       "0            Abancay+Abancay      Abancay      56871               78.865450   \n",
       "1          Acobamba+Acobamba     Acobamba      10258               62.337880   \n",
       "2            Acomayo+Acomayo      Acomayo       5627               60.402557   \n",
       "3                  Aija+Aija         Aija       1841               63.469151   \n",
       "4  Alto Amazonas+Balsapuerto  Balsapuerto      18042               11.974433   \n",
       "\n",
       "   sinServHigiene_pct  secComp_jc5  secComp_jc4  \n",
       "0                 2.9            4            3  \n",
       "1                10.3            3            2  \n",
       "2                12.4            2            2  \n",
       "3                 6.0            3            2  \n",
       "4                85.3            0            0  "
      ]
     },
     "execution_count": 362,
     "metadata": {},
     "output_type": "execute_result"
    }
   ],
   "source": [
    "disMapProv = disMapMerge.dissolve(by='Provincia')\n",
    "disMapProv.reset_index(inplace=True)\n",
    "disMapProv.head()"
   ]
  },
  {
   "cell_type": "code",
   "execution_count": 320,
   "id": "78d6634e-d9cc-47dd-8645-02b224b9b5bd",
   "metadata": {
    "tags": []
   },
   "outputs": [],
   "source": [
    "from libpysal.weights import Queen, Rook, KNN"
   ]
  },
  {
   "cell_type": "code",
   "execution_count": 363,
   "id": "77da8ae1-e92e-4fab-a412-930f20a0a811",
   "metadata": {
    "tags": []
   },
   "outputs": [],
   "source": [
    "w_rook = Rook.from_dataframe(disMapProv,use_index=False) "
   ]
  },
  {
   "cell_type": "code",
   "execution_count": 364,
   "id": "beeac324-1264-48cc-b57d-00f10084953f",
   "metadata": {
    "tags": []
   },
   "outputs": [],
   "source": [
    "w_queen = Queen.from_dataframe(disMapProv,use_index=False)"
   ]
  },
  {
   "cell_type": "code",
   "execution_count": 365,
   "id": "120f4712-4fb3-4ad0-87e3-5bf61614126b",
   "metadata": {
    "tags": []
   },
   "outputs": [],
   "source": [
    "# vecinos cercanos\n",
    "w_knn = KNN.from_dataframe(disMapProv, k=4)"
   ]
  },
  {
   "cell_type": "code",
   "execution_count": 366,
   "id": "9437d6ac-b737-4af1-b528-dbf1be2fb19f",
   "metadata": {
    "tags": []
   },
   "outputs": [
    {
     "data": {
      "text/html": [
       "<div>\n",
       "<style scoped>\n",
       "    .dataframe tbody tr th:only-of-type {\n",
       "        vertical-align: middle;\n",
       "    }\n",
       "\n",
       "    .dataframe tbody tr th {\n",
       "        vertical-align: top;\n",
       "    }\n",
       "\n",
       "    .dataframe thead th {\n",
       "        text-align: right;\n",
       "    }\n",
       "</style>\n",
       "<table border=\"1\" class=\"dataframe\">\n",
       "  <thead>\n",
       "    <tr style=\"text-align: right;\">\n",
       "      <th></th>\n",
       "      <th>Provincia</th>\n",
       "      <th>geometry</th>\n",
       "      <th>provDist</th>\n",
       "      <th>Distrito</th>\n",
       "      <th>Poblacion</th>\n",
       "      <th>secundariaCompleta_pct</th>\n",
       "      <th>sinServHigiene_pct</th>\n",
       "      <th>secComp_jc5</th>\n",
       "      <th>secComp_jc4</th>\n",
       "    </tr>\n",
       "  </thead>\n",
       "  <tbody>\n",
       "    <tr>\n",
       "      <th>112</th>\n",
       "      <td>Lima</td>\n",
       "      <td>MULTIPOLYGON (((609754.267 733754.003, 609739....</td>\n",
       "      <td>Lima+Ancon</td>\n",
       "      <td>Ancon</td>\n",
       "      <td>42124</td>\n",
       "      <td>72.117976</td>\n",
       "      <td>1.1</td>\n",
       "      <td>4</td>\n",
       "      <td>3</td>\n",
       "    </tr>\n",
       "  </tbody>\n",
       "</table>\n",
       "</div>"
      ],
      "text/plain": [
       "    Provincia                                           geometry    provDist  \\\n",
       "112      Lima  MULTIPOLYGON (((609754.267 733754.003, 609739....  Lima+Ancon   \n",
       "\n",
       "    Distrito  Poblacion  secundariaCompleta_pct  sinServHigiene_pct  \\\n",
       "112    Ancon      42124               72.117976                 1.1   \n",
       "\n",
       "     secComp_jc5  secComp_jc4  \n",
       "112            4            3  "
      ]
     },
     "execution_count": 366,
     "metadata": {},
     "output_type": "execute_result"
    }
   ],
   "source": [
    "disMapProv[disMapProv.Provincia=='Lima']"
   ]
  },
  {
   "cell_type": "code",
   "execution_count": 367,
   "id": "3beb8d6b-ccd6-4162-8f36-2ff4dd3e63bd",
   "metadata": {
    "tags": []
   },
   "outputs": [
    {
     "data": {
      "text/plain": [
       "5"
      ]
     },
     "execution_count": 367,
     "metadata": {},
     "output_type": "execute_result"
    }
   ],
   "source": [
    "# numero de vecinos del distrito\n",
    "len(w_rook.neighbors[112])"
   ]
  },
  {
   "cell_type": "code",
   "execution_count": 368,
   "id": "bbea9250-e095-4b75-b9bc-3fda4d3a7ab8",
   "metadata": {
    "tags": []
   },
   "outputs": [
    {
     "data": {
      "text/html": [
       "<div>\n",
       "<style scoped>\n",
       "    .dataframe tbody tr th:only-of-type {\n",
       "        vertical-align: middle;\n",
       "    }\n",
       "\n",
       "    .dataframe tbody tr th {\n",
       "        vertical-align: top;\n",
       "    }\n",
       "\n",
       "    .dataframe thead th {\n",
       "        text-align: right;\n",
       "    }\n",
       "</style>\n",
       "<table border=\"1\" class=\"dataframe\">\n",
       "  <thead>\n",
       "    <tr style=\"text-align: right;\">\n",
       "      <th></th>\n",
       "      <th>Provincia</th>\n",
       "      <th>geometry</th>\n",
       "      <th>provDist</th>\n",
       "      <th>Distrito</th>\n",
       "      <th>Poblacion</th>\n",
       "      <th>secundariaCompleta_pct</th>\n",
       "      <th>sinServHigiene_pct</th>\n",
       "      <th>secComp_jc5</th>\n",
       "      <th>secComp_jc4</th>\n",
       "    </tr>\n",
       "  </thead>\n",
       "  <tbody>\n",
       "    <tr>\n",
       "      <th>34</th>\n",
       "      <td>Canta</td>\n",
       "      <td>POLYGON ((652286.478 805483.483, 652291.680 80...</td>\n",
       "      <td>Canta+Arahuay</td>\n",
       "      <td>Arahuay</td>\n",
       "      <td>796</td>\n",
       "      <td>68.863361</td>\n",
       "      <td>26.6</td>\n",
       "      <td>3</td>\n",
       "      <td>3</td>\n",
       "    </tr>\n",
       "    <tr>\n",
       "      <th>88</th>\n",
       "      <td>Huaral</td>\n",
       "      <td>POLYGON ((616018.926 819854.233, 615874.050 81...</td>\n",
       "      <td>Huaral+Atavillos Alto</td>\n",
       "      <td>Atavillos Alto</td>\n",
       "      <td>626</td>\n",
       "      <td>68.096533</td>\n",
       "      <td>40.6</td>\n",
       "      <td>3</td>\n",
       "      <td>2</td>\n",
       "    </tr>\n",
       "    <tr>\n",
       "      <th>43</th>\n",
       "      <td>Cañete</td>\n",
       "      <td>POLYGON ((662998.713 639994.369, 662938.126 64...</td>\n",
       "      <td>Cañete+Asia</td>\n",
       "      <td>Asia</td>\n",
       "      <td>9902</td>\n",
       "      <td>82.237520</td>\n",
       "      <td>1.2</td>\n",
       "      <td>4</td>\n",
       "      <td>3</td>\n",
       "    </tr>\n",
       "    <tr>\n",
       "      <th>28</th>\n",
       "      <td>Callao</td>\n",
       "      <td>POLYGON ((592120.513 754133.804, 592135.929 75...</td>\n",
       "      <td>Callao+Bellavista</td>\n",
       "      <td>Bellavista</td>\n",
       "      <td>72625</td>\n",
       "      <td>77.639226</td>\n",
       "      <td>0.0</td>\n",
       "      <td>4</td>\n",
       "      <td>3</td>\n",
       "    </tr>\n",
       "    <tr>\n",
       "      <th>92</th>\n",
       "      <td>Huarochiri</td>\n",
       "      <td>POLYGON ((669820.636 725103.909, 669751.806 72...</td>\n",
       "      <td>Huarochiri+Antioquia</td>\n",
       "      <td>Antioquia</td>\n",
       "      <td>1246</td>\n",
       "      <td>64.779919</td>\n",
       "      <td>17.4</td>\n",
       "      <td>3</td>\n",
       "      <td>2</td>\n",
       "    </tr>\n",
       "  </tbody>\n",
       "</table>\n",
       "</div>"
      ],
      "text/plain": [
       "     Provincia                                           geometry  \\\n",
       "34       Canta  POLYGON ((652286.478 805483.483, 652291.680 80...   \n",
       "88      Huaral  POLYGON ((616018.926 819854.233, 615874.050 81...   \n",
       "43      Cañete  POLYGON ((662998.713 639994.369, 662938.126 64...   \n",
       "28      Callao  POLYGON ((592120.513 754133.804, 592135.929 75...   \n",
       "92  Huarochiri  POLYGON ((669820.636 725103.909, 669751.806 72...   \n",
       "\n",
       "                 provDist        Distrito  Poblacion  secundariaCompleta_pct  \\\n",
       "34          Canta+Arahuay         Arahuay        796               68.863361   \n",
       "88  Huaral+Atavillos Alto  Atavillos Alto        626               68.096533   \n",
       "43            Cañete+Asia            Asia       9902               82.237520   \n",
       "28      Callao+Bellavista      Bellavista      72625               77.639226   \n",
       "92   Huarochiri+Antioquia       Antioquia       1246               64.779919   \n",
       "\n",
       "    sinServHigiene_pct  secComp_jc5  secComp_jc4  \n",
       "34                26.6            3            3  \n",
       "88                40.6            3            2  \n",
       "43                 1.2            4            3  \n",
       "28                 0.0            4            3  \n",
       "92                17.4            3            2  "
      ]
     },
     "execution_count": 368,
     "metadata": {},
     "output_type": "execute_result"
    }
   ],
   "source": [
    "disMapProv.iloc[w_rook.neighbors[112],]"
   ]
  },
  {
   "cell_type": "code",
   "execution_count": 369,
   "id": "072b9311-c7a6-4e41-a586-6279b846fe7d",
   "metadata": {
    "tags": []
   },
   "outputs": [
    {
     "data": {
      "text/plain": [
       "<Axes: >"
      ]
     },
     "execution_count": 369,
     "metadata": {},
     "output_type": "execute_result"
    },
    {
     "data": {
      "image/png": "[encoded data removed]",
      "text/plain": [
       "<Figure size 640x480 with 1 Axes>"
      ]
     },
     "metadata": {},
     "output_type": "display_data"
    }
   ],
   "source": [
    "disMapProv.iloc[w_rook.neighbors[112] ,].plot(facecolor=\"skyblue\",edgecolor='beige')"
   ]
  },
  {
   "cell_type": "code",
   "execution_count": 370,
   "id": "72cb10bb-43b3-413c-b54f-ddacfa525e9d",
   "metadata": {
    "tags": []
   },
   "outputs": [
    {
     "ename": "AttributeError",
     "evalue": "'GeoDataFrame' object has no attribute 'Departamento'",
     "output_type": "error",
     "traceback": [
      "\u001b[1;31m---------------------------------------------------------------------------\u001b[0m",
      "\u001b[1;31mAttributeError\u001b[0m                            Traceback (most recent call last)",
      "\u001b[1;32m~\\AppData\\Local\\Temp\\ipykernel_13100\\1892277555.py\u001b[0m in \u001b[0;36m?\u001b[1;34m()\u001b[0m\n\u001b[1;32m----> 1\u001b[1;33m \u001b[0mbase\u001b[0m \u001b[1;33m=\u001b[0m \u001b[0mdisMapProv\u001b[0m\u001b[1;33m[\u001b[0m\u001b[0mdisMapProv\u001b[0m\u001b[1;33m.\u001b[0m\u001b[0mDepartamento\u001b[0m\u001b[1;33m==\u001b[0m\u001b[1;34m\"Lima\"\u001b[0m\u001b[1;33m]\u001b[0m\u001b[1;33m.\u001b[0m\u001b[0mplot\u001b[0m\u001b[1;33m(\u001b[0m\u001b[0mfacecolor\u001b[0m\u001b[1;33m=\u001b[0m\u001b[1;34m'gray'\u001b[0m\u001b[1;33m)\u001b[0m\u001b[1;33m\u001b[0m\u001b[1;33m\u001b[0m\u001b[0m\n\u001b[0m\u001b[0;32m      2\u001b[0m \u001b[0mdisMapProv\u001b[0m\u001b[1;33m.\u001b[0m\u001b[0miloc\u001b[0m\u001b[1;33m[\u001b[0m\u001b[0mw_rook\u001b[0m\u001b[1;33m.\u001b[0m\u001b[0mneighbors\u001b[0m\u001b[1;33m[\u001b[0m\u001b[1;36m112\u001b[0m\u001b[1;33m]\u001b[0m \u001b[1;33m,\u001b[0m\u001b[1;33m]\u001b[0m\u001b[1;33m.\u001b[0m\u001b[0mplot\u001b[0m\u001b[1;33m(\u001b[0m\u001b[0max\u001b[0m\u001b[1;33m=\u001b[0m\u001b[0mbase\u001b[0m\u001b[1;33m,\u001b[0m\u001b[0mfacecolor\u001b[0m\u001b[1;33m=\u001b[0m\u001b[1;34m\"yellow\"\u001b[0m\u001b[1;33m,\u001b[0m\u001b[0medgecolor\u001b[0m\u001b[1;33m=\u001b[0m\u001b[1;34m'k'\u001b[0m\u001b[1;33m)\u001b[0m\u001b[1;33m\u001b[0m\u001b[1;33m\u001b[0m\u001b[0m\n\u001b[0;32m      3\u001b[0m \u001b[0mdisMapProv\u001b[0m\u001b[1;33m[\u001b[0m\u001b[0mdisMapProv\u001b[0m\u001b[1;33m.\u001b[0m\u001b[0mProvincia\u001b[0m\u001b[1;33m==\u001b[0m\u001b[1;34m'Lima'\u001b[0m\u001b[1;33m]\u001b[0m\u001b[1;33m.\u001b[0m\u001b[0mplot\u001b[0m\u001b[1;33m(\u001b[0m\u001b[0max\u001b[0m\u001b[1;33m=\u001b[0m\u001b[0mbase\u001b[0m\u001b[1;33m,\u001b[0m\u001b[0mfacecolor\u001b[0m\u001b[1;33m=\u001b[0m\u001b[1;34m\"red\"\u001b[0m\u001b[1;33m)\u001b[0m\u001b[1;33m\u001b[0m\u001b[1;33m\u001b[0m\u001b[0m\n",
      "\u001b[1;32m~\\anaconda3\\envs\\miamb\\Lib\\site-packages\\pandas\\core\\generic.py\u001b[0m in \u001b[0;36m?\u001b[1;34m(self, name)\u001b[0m\n\u001b[0;32m   5985\u001b[0m             \u001b[1;32mand\u001b[0m \u001b[0mname\u001b[0m \u001b[1;32mnot\u001b[0m \u001b[1;32min\u001b[0m \u001b[0mself\u001b[0m\u001b[1;33m.\u001b[0m\u001b[0m_accessors\u001b[0m\u001b[1;33m\u001b[0m\u001b[1;33m\u001b[0m\u001b[0m\n\u001b[0;32m   5986\u001b[0m             \u001b[1;32mand\u001b[0m \u001b[0mself\u001b[0m\u001b[1;33m.\u001b[0m\u001b[0m_info_axis\u001b[0m\u001b[1;33m.\u001b[0m\u001b[0m_can_hold_identifiers_and_holds_name\u001b[0m\u001b[1;33m(\u001b[0m\u001b[0mname\u001b[0m\u001b[1;33m)\u001b[0m\u001b[1;33m\u001b[0m\u001b[1;33m\u001b[0m\u001b[0m\n\u001b[0;32m   5987\u001b[0m         ):\n\u001b[0;32m   5988\u001b[0m             \u001b[1;32mreturn\u001b[0m \u001b[0mself\u001b[0m\u001b[1;33m[\u001b[0m\u001b[0mname\u001b[0m\u001b[1;33m]\u001b[0m\u001b[1;33m\u001b[0m\u001b[1;33m\u001b[0m\u001b[0m\n\u001b[1;32m-> 5989\u001b[1;33m         \u001b[1;32mreturn\u001b[0m \u001b[0mobject\u001b[0m\u001b[1;33m.\u001b[0m\u001b[0m__getattribute__\u001b[0m\u001b[1;33m(\u001b[0m\u001b[0mself\u001b[0m\u001b[1;33m,\u001b[0m \u001b[0mname\u001b[0m\u001b[1;33m)\u001b[0m\u001b[1;33m\u001b[0m\u001b[1;33m\u001b[0m\u001b[0m\n\u001b[0m",
      "\u001b[1;31mAttributeError\u001b[0m: 'GeoDataFrame' object has no attribute 'Departamento'"
     ]
    }
   ],
   "source": [
    "base = disMapProv[disMapProv.Departamento==\"Lima\"].plot(facecolor='gray')\n",
    "disMapProv.iloc[w_rook.neighbors[112] ,].plot(ax=base,facecolor=\"yellow\",edgecolor='k')\n",
    "disMapProv[disMapProv.Provincia=='Lima'].plot(ax=base,facecolor=\"red\")"
   ]
  },
  {
   "cell_type": "code",
   "execution_count": 346,
   "id": "f4e13ed1-64be-4fe0-9fe4-f0896e4cc8c7",
   "metadata": {
    "tags": []
   },
   "outputs": [
    {
     "data": {
      "text/plain": [
       "<Axes: >"
      ]
     },
     "execution_count": 346,
     "metadata": {},
     "output_type": "execute_result"
    },
    {
     "data": {
      "image/png": "[encoded data removed]",
      "text/plain": [
       "<Figure size 640x480 with 1 Axes>"
      ]
     },
     "metadata": {},
     "output_type": "display_data"
    }
   ],
   "source": [
    "# see whole area\n",
    "base=disMapMerge[disMapMerge.Provincia==\"Lima\"].plot()\n",
    "disMapMerge.iloc[w_rook.neighbors[842] ,].plot(ax=base,facecolor=\"yellow\",edgecolor='k')\n",
    "disMapMerge.head(842).plot(ax=base,facecolor=\"red\")"
   ]
  },
  {
   "cell_type": "markdown",
   "id": "448f13bb-fb2f-4b93-938c-63518a282fb8",
   "metadata": {},
   "source": [
    "## Exercise 8"
   ]
  },
  {
   "cell_type": "markdown",
   "id": "37a450f9-b6e8-4963-bd5c-9129117407ce",
   "metadata": {},
   "source": [
    "    \n",
    "### 1. Compute the Moran's coefficient for **all** your numeric variables.\n",
    "    "
   ]
  },
  {
   "cell_type": "markdown",
   "id": "2e6f6b50-4933-42df-8669-4ca0a2553a9e",
   "metadata": {},
   "source": [
    "### 2. Make a scatter plot for each variable."
   ]
  },
  {
   "cell_type": "markdown",
   "id": "772c6f48-6bc8-4054-8cd8-c1bf893131ab",
   "metadata": {},
   "source": [
    "## Exercise 9"
   ]
  },
  {
   "cell_type": "markdown",
   "id": "80d50aad-2927-46b7-8752-2f1ac180b233",
   "metadata": {},
   "source": [
    "### 1. Compute the Local Moran for the variables in your data that have significant spatial correlation.\n",
    "    "
   ]
  },
  {
   "cell_type": "markdown",
   "id": "7e5fe9c9-b6b8-4bf4-8ec8-7799a72914a1",
   "metadata": {},
   "source": [
    "### 2. Create a new column for each of those variables, with a label ('0 no_sig', '1 hotSpot', '2 coldOutlier', '3 coldSpot', '4 hotOutlier')."
   ]
  },
  {
   "cell_type": "markdown",
   "id": "9c475b63-170b-4e77-afb6-3eb9f723a995",
   "metadata": {},
   "source": [
    "### 3. Prepare a map for each of the variables analyzed, showing the spots and outliers."
   ]
  },
  {
   "cell_type": "code",
   "execution_count": null,
   "id": "2835ee3a-bc16-4e31-9762-1779879a078e",
   "metadata": {},
   "outputs": [],
   "source": []
  }
 ],
 "metadata": {
  "kernelspec": {
   "display_name": "Python 3 (ipykernel)",
   "language": "python",
   "name": "python3"
  },
  "language_info": {
   "codemirror_mode": {
    "name": "ipython",
    "version": 3
   },
   "file_extension": ".py",
   "mimetype": "text/x-python",
   "name": "python",
   "nbconvert_exporter": "python",
   "pygments_lexer": "ipython3",
   "version": "3.11.4"
  }
 },
 "nbformat": 4,
 "nbformat_minor": 5
}
